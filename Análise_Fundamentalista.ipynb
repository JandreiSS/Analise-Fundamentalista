{
  "cells": [
    {
      "cell_type": "markdown",
      "metadata": {
        "id": "view-in-github",
        "colab_type": "text"
      },
      "source": [
        "<a href=\"https://colab.research.google.com/github/JandreiSS/analise-fundamentalista/blob/master/An%C3%A1lise_Fundamentalista.ipynb\" target=\"_parent\"><img src=\"https://colab.research.google.com/assets/colab-badge.svg\" alt=\"Open In Colab\"/></a>"
      ]
    },
    {
      "cell_type": "code",
      "metadata": {
        "id": "g7PsqnqqHVgO",
        "colab_type": "code",
        "colab": {}
      },
      "source": [
        "import numpy as np\n",
        "import pandas as pd\n",
        "import string\n",
        "import requests\n",
        "import warnings\n",
        "warnings.filterwarnings('ignore')"
      ],
      "execution_count": 1,
      "outputs": []
    },
    {
      "cell_type": "code",
      "metadata": {
        "id": "0qVH6TQbHYUy",
        "colab_type": "code",
        "colab": {}
      },
      "source": [
        "url = 'http://fundamentus.com.br/resultado.php'"
      ],
      "execution_count": 2,
      "outputs": []
    },
    {
      "cell_type": "code",
      "metadata": {
        "id": "QRoqRLWvIE8Q",
        "colab_type": "code",
        "colab": {}
      },
      "source": [
        "header = {\n",
        "  \"User-Agent\": \"Mozilla/5.0 (X11; Linux x86_64) AppleWebKit/537.36 (KHTML, like Gecko) Chrome/50.0.2661.75 Safari/537.36\",\n",
        "  \"X-Requested-With\": \"XMLHttpRequest\"\n",
        "}"
      ],
      "execution_count": 3,
      "outputs": []
    },
    {
      "cell_type": "code",
      "metadata": {
        "id": "oijVwTEBIMAv",
        "colab_type": "code",
        "colab": {}
      },
      "source": [
        "r = requests.get(url, headers=header)"
      ],
      "execution_count": 4,
      "outputs": []
    },
    {
      "cell_type": "code",
      "metadata": {
        "id": "MzcZyIfoHfy_",
        "colab_type": "code",
        "colab": {}
      },
      "source": [
        "dflist = pd.read_html(r.text, thousands='.', decimal=',')[0]"
      ],
      "execution_count": 5,
      "outputs": [
        {
          "output_type": "error",
          "ename": "KeyboardInterrupt",
          "evalue": "",
          "traceback": [
            "\u001b[1;31m---------------------------------------------------------------------------\u001b[0m",
            "\u001b[1;31mKeyboardInterrupt\u001b[0m                         Traceback (most recent call last)",
            "\u001b[1;32m<ipython-input-5-961afb8fc046>\u001b[0m in \u001b[0;36m<module>\u001b[1;34m\u001b[0m\n\u001b[1;32m----> 1\u001b[1;33m \u001b[0mdflist\u001b[0m \u001b[1;33m=\u001b[0m \u001b[0mpd\u001b[0m\u001b[1;33m.\u001b[0m\u001b[0mread_html\u001b[0m\u001b[1;33m(\u001b[0m\u001b[0mr\u001b[0m\u001b[1;33m.\u001b[0m\u001b[0mtext\u001b[0m\u001b[1;33m,\u001b[0m \u001b[0mthousands\u001b[0m\u001b[1;33m=\u001b[0m\u001b[1;34m'.'\u001b[0m\u001b[1;33m,\u001b[0m \u001b[0mdecimal\u001b[0m\u001b[1;33m=\u001b[0m\u001b[1;34m','\u001b[0m\u001b[1;33m)\u001b[0m\u001b[1;33m[\u001b[0m\u001b[1;36m0\u001b[0m\u001b[1;33m]\u001b[0m\u001b[1;33m\u001b[0m\u001b[1;33m\u001b[0m\u001b[0m\n\u001b[0m",
            "\u001b[1;32m~\\anaconda3\\lib\\site-packages\\pandas\\io\\html.py\u001b[0m in \u001b[0;36mread_html\u001b[1;34m(io, match, flavor, header, index_col, skiprows, attrs, parse_dates, thousands, encoding, decimal, converters, na_values, keep_default_na, displayed_only)\u001b[0m\n\u001b[0;32m   1073\u001b[0m     \u001b[1;33m<\u001b[0m\u001b[0mio\u001b[0m\u001b[1;33m.\u001b[0m\u001b[0mread_html\u001b[0m\u001b[1;33m>\u001b[0m\u001b[0;31m`\u001b[0m \u001b[1;32mfor\u001b[0m \u001b[0msome\u001b[0m \u001b[0mexamples\u001b[0m \u001b[0mof\u001b[0m \u001b[0mreading\u001b[0m \u001b[1;32min\u001b[0m \u001b[0mHTML\u001b[0m \u001b[0mtables\u001b[0m\u001b[1;33m.\u001b[0m\u001b[1;33m\u001b[0m\u001b[1;33m\u001b[0m\u001b[0m\n\u001b[0;32m   1074\u001b[0m     \"\"\"\n\u001b[1;32m-> 1075\u001b[1;33m     \u001b[0m_importers\u001b[0m\u001b[1;33m(\u001b[0m\u001b[1;33m)\u001b[0m\u001b[1;33m\u001b[0m\u001b[1;33m\u001b[0m\u001b[0m\n\u001b[0m\u001b[0;32m   1076\u001b[0m \u001b[1;33m\u001b[0m\u001b[0m\n\u001b[0;32m   1077\u001b[0m     \u001b[1;31m# Type check here. We don't want to parse only to fail because of an\u001b[0m\u001b[1;33m\u001b[0m\u001b[1;33m\u001b[0m\u001b[1;33m\u001b[0m\u001b[0m\n",
            "\u001b[1;32m~\\anaconda3\\lib\\site-packages\\pandas\\io\\html.py\u001b[0m in \u001b[0;36m_importers\u001b[1;34m()\u001b[0m\n\u001b[0;32m     36\u001b[0m \u001b[1;33m\u001b[0m\u001b[0m\n\u001b[0;32m     37\u001b[0m     \u001b[1;32mglobal\u001b[0m \u001b[0m_HAS_BS4\u001b[0m\u001b[1;33m,\u001b[0m \u001b[0m_HAS_LXML\u001b[0m\u001b[1;33m,\u001b[0m \u001b[0m_HAS_HTML5LIB\u001b[0m\u001b[1;33m\u001b[0m\u001b[1;33m\u001b[0m\u001b[0m\n\u001b[1;32m---> 38\u001b[1;33m     \u001b[0mbs4\u001b[0m \u001b[1;33m=\u001b[0m \u001b[0mimport_optional_dependency\u001b[0m\u001b[1;33m(\u001b[0m\u001b[1;34m\"bs4\"\u001b[0m\u001b[1;33m,\u001b[0m \u001b[0mraise_on_missing\u001b[0m\u001b[1;33m=\u001b[0m\u001b[1;32mFalse\u001b[0m\u001b[1;33m,\u001b[0m \u001b[0mon_version\u001b[0m\u001b[1;33m=\u001b[0m\u001b[1;34m\"ignore\"\u001b[0m\u001b[1;33m)\u001b[0m\u001b[1;33m\u001b[0m\u001b[1;33m\u001b[0m\u001b[0m\n\u001b[0m\u001b[0;32m     39\u001b[0m     \u001b[0m_HAS_BS4\u001b[0m \u001b[1;33m=\u001b[0m \u001b[0mbs4\u001b[0m \u001b[1;32mis\u001b[0m \u001b[1;32mnot\u001b[0m \u001b[1;32mNone\u001b[0m\u001b[1;33m\u001b[0m\u001b[1;33m\u001b[0m\u001b[0m\n\u001b[0;32m     40\u001b[0m \u001b[1;33m\u001b[0m\u001b[0m\n",
            "\u001b[1;32m~\\anaconda3\\lib\\site-packages\\pandas\\compat\\_optional.py\u001b[0m in \u001b[0;36mimport_optional_dependency\u001b[1;34m(name, extra, raise_on_missing, on_version)\u001b[0m\n\u001b[0;32m     87\u001b[0m     )\n\u001b[0;32m     88\u001b[0m     \u001b[1;32mtry\u001b[0m\u001b[1;33m:\u001b[0m\u001b[1;33m\u001b[0m\u001b[1;33m\u001b[0m\u001b[0m\n\u001b[1;32m---> 89\u001b[1;33m         \u001b[0mmodule\u001b[0m \u001b[1;33m=\u001b[0m \u001b[0mimportlib\u001b[0m\u001b[1;33m.\u001b[0m\u001b[0mimport_module\u001b[0m\u001b[1;33m(\u001b[0m\u001b[0mname\u001b[0m\u001b[1;33m)\u001b[0m\u001b[1;33m\u001b[0m\u001b[1;33m\u001b[0m\u001b[0m\n\u001b[0m\u001b[0;32m     90\u001b[0m     \u001b[1;32mexcept\u001b[0m \u001b[0mImportError\u001b[0m\u001b[1;33m:\u001b[0m\u001b[1;33m\u001b[0m\u001b[1;33m\u001b[0m\u001b[0m\n\u001b[0;32m     91\u001b[0m         \u001b[1;32mif\u001b[0m \u001b[0mraise_on_missing\u001b[0m\u001b[1;33m:\u001b[0m\u001b[1;33m\u001b[0m\u001b[1;33m\u001b[0m\u001b[0m\n",
            "\u001b[1;32m~\\anaconda3\\lib\\importlib\\__init__.py\u001b[0m in \u001b[0;36mimport_module\u001b[1;34m(name, package)\u001b[0m\n\u001b[0;32m    125\u001b[0m                 \u001b[1;32mbreak\u001b[0m\u001b[1;33m\u001b[0m\u001b[1;33m\u001b[0m\u001b[0m\n\u001b[0;32m    126\u001b[0m             \u001b[0mlevel\u001b[0m \u001b[1;33m+=\u001b[0m \u001b[1;36m1\u001b[0m\u001b[1;33m\u001b[0m\u001b[1;33m\u001b[0m\u001b[0m\n\u001b[1;32m--> 127\u001b[1;33m     \u001b[1;32mreturn\u001b[0m \u001b[0m_bootstrap\u001b[0m\u001b[1;33m.\u001b[0m\u001b[0m_gcd_import\u001b[0m\u001b[1;33m(\u001b[0m\u001b[0mname\u001b[0m\u001b[1;33m[\u001b[0m\u001b[0mlevel\u001b[0m\u001b[1;33m:\u001b[0m\u001b[1;33m]\u001b[0m\u001b[1;33m,\u001b[0m \u001b[0mpackage\u001b[0m\u001b[1;33m,\u001b[0m \u001b[0mlevel\u001b[0m\u001b[1;33m)\u001b[0m\u001b[1;33m\u001b[0m\u001b[1;33m\u001b[0m\u001b[0m\n\u001b[0m\u001b[0;32m    128\u001b[0m \u001b[1;33m\u001b[0m\u001b[0m\n\u001b[0;32m    129\u001b[0m \u001b[1;33m\u001b[0m\u001b[0m\n",
            "\u001b[1;32m~\\anaconda3\\lib\\importlib\\_bootstrap.py\u001b[0m in \u001b[0;36m_gcd_import\u001b[1;34m(name, package, level)\u001b[0m\n",
            "\u001b[1;32m~\\anaconda3\\lib\\importlib\\_bootstrap.py\u001b[0m in \u001b[0;36m_find_and_load\u001b[1;34m(name, import_)\u001b[0m\n",
            "\u001b[1;32m~\\anaconda3\\lib\\importlib\\_bootstrap.py\u001b[0m in \u001b[0;36m_find_and_load_unlocked\u001b[1;34m(name, import_)\u001b[0m\n",
            "\u001b[1;32m~\\anaconda3\\lib\\importlib\\_bootstrap.py\u001b[0m in \u001b[0;36m_load_unlocked\u001b[1;34m(spec)\u001b[0m\n",
            "\u001b[1;32m~\\anaconda3\\lib\\importlib\\_bootstrap_external.py\u001b[0m in \u001b[0;36mexec_module\u001b[1;34m(self, module)\u001b[0m\n",
            "\u001b[1;32m~\\anaconda3\\lib\\importlib\\_bootstrap.py\u001b[0m in \u001b[0;36m_call_with_frames_removed\u001b[1;34m(f, *args, **kwds)\u001b[0m\n",
            "\u001b[1;32m~\\anaconda3\\lib\\site-packages\\bs4\\__init__.py\u001b[0m in \u001b[0;36m<module>\u001b[1;34m\u001b[0m\n\u001b[0;32m     29\u001b[0m \u001b[1;32mimport\u001b[0m \u001b[0mwarnings\u001b[0m\u001b[1;33m\u001b[0m\u001b[1;33m\u001b[0m\u001b[0m\n\u001b[0;32m     30\u001b[0m \u001b[1;33m\u001b[0m\u001b[0m\n\u001b[1;32m---> 31\u001b[1;33m \u001b[1;32mfrom\u001b[0m \u001b[1;33m.\u001b[0m\u001b[0mbuilder\u001b[0m \u001b[1;32mimport\u001b[0m \u001b[0mbuilder_registry\u001b[0m\u001b[1;33m,\u001b[0m \u001b[0mParserRejectedMarkup\u001b[0m\u001b[1;33m\u001b[0m\u001b[1;33m\u001b[0m\u001b[0m\n\u001b[0m\u001b[0;32m     32\u001b[0m \u001b[1;32mfrom\u001b[0m \u001b[1;33m.\u001b[0m\u001b[0mdammit\u001b[0m \u001b[1;32mimport\u001b[0m \u001b[0mUnicodeDammit\u001b[0m\u001b[1;33m\u001b[0m\u001b[1;33m\u001b[0m\u001b[0m\n\u001b[0;32m     33\u001b[0m from .element import (\n",
            "\u001b[1;32m~\\anaconda3\\lib\\site-packages\\bs4\\builder\\__init__.py\u001b[0m in \u001b[0;36m<module>\u001b[1;34m\u001b[0m\n\u001b[0;32m    473\u001b[0m \u001b[0mregister_treebuilders_from\u001b[0m\u001b[1;33m(\u001b[0m\u001b[0m_htmlparser\u001b[0m\u001b[1;33m)\u001b[0m\u001b[1;33m\u001b[0m\u001b[1;33m\u001b[0m\u001b[0m\n\u001b[0;32m    474\u001b[0m \u001b[1;32mtry\u001b[0m\u001b[1;33m:\u001b[0m\u001b[1;33m\u001b[0m\u001b[1;33m\u001b[0m\u001b[0m\n\u001b[1;32m--> 475\u001b[1;33m     \u001b[1;32mfrom\u001b[0m \u001b[1;33m.\u001b[0m \u001b[1;32mimport\u001b[0m \u001b[0m_html5lib\u001b[0m\u001b[1;33m\u001b[0m\u001b[1;33m\u001b[0m\u001b[0m\n\u001b[0m\u001b[0;32m    476\u001b[0m     \u001b[0mregister_treebuilders_from\u001b[0m\u001b[1;33m(\u001b[0m\u001b[0m_html5lib\u001b[0m\u001b[1;33m)\u001b[0m\u001b[1;33m\u001b[0m\u001b[1;33m\u001b[0m\u001b[0m\n\u001b[0;32m    477\u001b[0m \u001b[1;32mexcept\u001b[0m \u001b[0mImportError\u001b[0m\u001b[1;33m:\u001b[0m\u001b[1;33m\u001b[0m\u001b[1;33m\u001b[0m\u001b[0m\n",
            "\u001b[1;32m~\\anaconda3\\lib\\site-packages\\bs4\\builder\\_html5lib.py\u001b[0m in \u001b[0;36m<module>\u001b[1;34m\u001b[0m\n\u001b[0;32m     18\u001b[0m     \u001b[0mnonwhitespace_re\u001b[0m\u001b[1;33m,\u001b[0m\u001b[1;33m\u001b[0m\u001b[1;33m\u001b[0m\u001b[0m\n\u001b[0;32m     19\u001b[0m )\n\u001b[1;32m---> 20\u001b[1;33m \u001b[1;32mimport\u001b[0m \u001b[0mhtml5lib\u001b[0m\u001b[1;33m\u001b[0m\u001b[1;33m\u001b[0m\u001b[0m\n\u001b[0m\u001b[0;32m     21\u001b[0m from html5lib.constants import (\n\u001b[0;32m     22\u001b[0m     \u001b[0mnamespaces\u001b[0m\u001b[1;33m,\u001b[0m\u001b[1;33m\u001b[0m\u001b[1;33m\u001b[0m\u001b[0m\n",
            "\u001b[1;32m~\\anaconda3\\lib\\importlib\\_bootstrap.py\u001b[0m in \u001b[0;36m_find_and_load\u001b[1;34m(name, import_)\u001b[0m\n",
            "\u001b[1;32m~\\anaconda3\\lib\\importlib\\_bootstrap.py\u001b[0m in \u001b[0;36m_find_and_load_unlocked\u001b[1;34m(name, import_)\u001b[0m\n",
            "\u001b[1;32m~\\anaconda3\\lib\\importlib\\_bootstrap.py\u001b[0m in \u001b[0;36m_load_unlocked\u001b[1;34m(spec)\u001b[0m\n",
            "\u001b[1;32m~\\anaconda3\\lib\\importlib\\_bootstrap_external.py\u001b[0m in \u001b[0;36mexec_module\u001b[1;34m(self, module)\u001b[0m\n",
            "\u001b[1;32m~\\anaconda3\\lib\\importlib\\_bootstrap_external.py\u001b[0m in \u001b[0;36mget_code\u001b[1;34m(self, fullname)\u001b[0m\n",
            "\u001b[1;32m~\\anaconda3\\lib\\importlib\\_bootstrap_external.py\u001b[0m in \u001b[0;36mget_data\u001b[1;34m(self, path)\u001b[0m\n",
            "\u001b[1;31mKeyboardInterrupt\u001b[0m: "
          ]
        }
      ]
    },
    {
      "cell_type": "code",
      "metadata": {
        "id": "6KLy975WTORj",
        "colab_type": "code",
        "colab": {}
      },
      "source": [
        "for coluna in ['Div.Yield', 'Mrg Ebit', 'Mrg. Líq.', 'ROIC', 'ROE', 'Cresc. Rec.5a']:\n",
        "  dflist[coluna] = dflist[coluna].str.replace('.', '')\n",
        "  dflist[coluna] = dflist[coluna].str.replace(',', '.')\n",
        "  dflist[coluna] = dflist[coluna].str.rstrip('%').astype('float') / 100"
      ],
      "execution_count": 6,
      "outputs": []
    },
    {
      "cell_type": "code",
      "metadata": {
        "id": "RA5St-BDHkFu",
        "colab_type": "code",
        "colab": {}
      },
      "source": [
        "# dflist['Papel'].values"
      ],
      "execution_count": 7,
      "outputs": []
    },
    {
      "cell_type": "markdown",
      "metadata": {
        "id": "ZGXGAg_ZUvct",
        "colab_type": "text"
      },
      "source": [
        "#<strong>Analisando Dados</strong>"
      ]
    },
    {
      "cell_type": "code",
      "metadata": {
        "id": "mLdgkDf8Idn4",
        "colab_type": "code",
        "colab": {}
      },
      "source": [
        "df = dflist[dflist['Liq.2meses'] > 1000000]"
      ],
      "execution_count": 7,
      "outputs": []
    },
    {
      "cell_type": "markdown",
      "metadata": {
        "id": "CzbP_qpGWwfV",
        "colab_type": "text"
      },
      "source": [
        "<p><strong>Enterprise Value / Earnings Before Interest and Taxes</strong></p>\n",
        "<p>(Valor do Negócio / Lucro Antes dos Juros e Taxas)</p>"
      ]
    },
    {
      "cell_type": "code",
      "metadata": {
        "id": "QPg_prr-WL70",
        "colab_type": "code",
        "colab": {}
      },
      "source": [
        "ranking = pd.DataFrame()\n",
        "ranking['Position'] = range(1,151)\n",
        "ranking['EV/EBIT'] = df[df['EV/EBIT'] > 0].sort_values(by=['EV/EBIT'])['Papel'][:150].values\n",
        "ranking['ROIC'] = df.sort_values(by=['ROIC'], ascending=False)['Papel'][:150].values"
      ],
      "execution_count": 8,
      "outputs": []
    },
    {
      "cell_type": "code",
      "metadata": {
        "id": "9FLjZutuVnCY",
        "colab_type": "code",
        "colab": {
          "base_uri": "https://localhost:8080/",
          "height": 419
        },
        "outputId": "f0f202ed-c0a8-400b-97da-c39e9ff210f4"
      },
      "source": [
        "ranking"
      ],
      "execution_count": 9,
      "outputs": [
        {
          "output_type": "execute_result",
          "data": {
            "text/plain": "     Position EV/EBIT   ROIC\n0           1   PSSA3  WIZS3\n1           2   SMLS3  PSSA3\n2           3   WIZS3  ODPV3\n3           4   ENAT3  TOTS3\n4           5   VALE3  QUAL3\n..        ...     ...    ...\n145       146   VVAR3  FESA4\n146       147   SUZB3  EVEN3\n147       148   PRNR3  SUZB3\n148       149   CAML3  JHSF3\n149       150   PTBL3  CAML3\n\n[150 rows x 3 columns]",
            "text/html": "<div>\n<style scoped>\n    .dataframe tbody tr th:only-of-type {\n        vertical-align: middle;\n    }\n\n    .dataframe tbody tr th {\n        vertical-align: top;\n    }\n\n    .dataframe thead th {\n        text-align: right;\n    }\n</style>\n<table border=\"1\" class=\"dataframe\">\n  <thead>\n    <tr style=\"text-align: right;\">\n      <th></th>\n      <th>Position</th>\n      <th>EV/EBIT</th>\n      <th>ROIC</th>\n    </tr>\n  </thead>\n  <tbody>\n    <tr>\n      <th>0</th>\n      <td>1</td>\n      <td>PSSA3</td>\n      <td>WIZS3</td>\n    </tr>\n    <tr>\n      <th>1</th>\n      <td>2</td>\n      <td>SMLS3</td>\n      <td>PSSA3</td>\n    </tr>\n    <tr>\n      <th>2</th>\n      <td>3</td>\n      <td>WIZS3</td>\n      <td>ODPV3</td>\n    </tr>\n    <tr>\n      <th>3</th>\n      <td>4</td>\n      <td>ENAT3</td>\n      <td>TOTS3</td>\n    </tr>\n    <tr>\n      <th>4</th>\n      <td>5</td>\n      <td>VALE3</td>\n      <td>QUAL3</td>\n    </tr>\n    <tr>\n      <th>...</th>\n      <td>...</td>\n      <td>...</td>\n      <td>...</td>\n    </tr>\n    <tr>\n      <th>145</th>\n      <td>146</td>\n      <td>VVAR3</td>\n      <td>FESA4</td>\n    </tr>\n    <tr>\n      <th>146</th>\n      <td>147</td>\n      <td>SUZB3</td>\n      <td>EVEN3</td>\n    </tr>\n    <tr>\n      <th>147</th>\n      <td>148</td>\n      <td>PRNR3</td>\n      <td>SUZB3</td>\n    </tr>\n    <tr>\n      <th>148</th>\n      <td>149</td>\n      <td>CAML3</td>\n      <td>JHSF3</td>\n    </tr>\n    <tr>\n      <th>149</th>\n      <td>150</td>\n      <td>PTBL3</td>\n      <td>CAML3</td>\n    </tr>\n  </tbody>\n</table>\n<p>150 rows × 3 columns</p>\n</div>"
          },
          "metadata": {},
          "execution_count": 9
        }
      ]
    },
    {
      "cell_type": "markdown",
      "metadata": {
        "id": "eeX9Ccz5aIwr",
        "colab_type": "text"
      },
      "source": [
        "Cálculo utilizando o rankeamento pela Fórmula Mágica: Buscar o papel, pegando a posição que ele tem no EV/EBIT e somando a posição que ele tem no ROIC. Quanto menor, melhor"
      ]
    },
    {
      "cell_type": "code",
      "metadata": {
        "id": "agIOJRtJaAjY",
        "colab_type": "code",
        "colab": {}
      },
      "source": [
        "auxA = ranking.pivot_table(columns='EV/EBIT', values='Position')\n",
        "auxB = ranking.pivot_table(columns='ROIC', values='Position')\n",
        "t = pd.concat([auxA, auxB])"
      ],
      "execution_count": 10,
      "outputs": []
    },
    {
      "cell_type": "code",
      "metadata": {
        "id": "JA3ps7uaa-Mb",
        "colab_type": "code",
        "colab": {
          "base_uri": "https://localhost:8080/",
          "height": 160
        },
        "outputId": "59a6db53-a0d5-4eea-bca5-1596d37ac9a0"
      },
      "source": [
        "t"
      ],
      "execution_count": 11,
      "outputs": [
        {
          "output_type": "execute_result",
          "data": {
            "text/plain": "          AALR3  ABEV3  AGRO3  ALPA4  ALSO3  ALUP11  AMAR3  ANIM3  ARZZ3  \\\nPosition  119.0   92.0   70.0  141.0   68.0     6.0   41.0  128.0  142.0   \nPosition  144.0   22.0   85.0   19.0  133.0    30.0   49.0  120.0   31.0   \n\n          B3SA3  ...  YDUQ3  DTEX3  EZTC3  GNDI3  HAPV3  LWSA3  MGLU3  PNVL3  \\\nPosition  143.0  ...   78.0    NaN    NaN    NaN    NaN    NaN    NaN    NaN   \nPosition   35.0  ...   16.0  145.0  121.0   80.0   67.0  101.0  106.0   65.0   \n\n          RADL3  WEGE3  \nPosition    NaN    NaN  \nPosition   61.0   10.0  \n\n[2 rows x 158 columns]",
            "text/html": "<div>\n<style scoped>\n    .dataframe tbody tr th:only-of-type {\n        vertical-align: middle;\n    }\n\n    .dataframe tbody tr th {\n        vertical-align: top;\n    }\n\n    .dataframe thead th {\n        text-align: right;\n    }\n</style>\n<table border=\"1\" class=\"dataframe\">\n  <thead>\n    <tr style=\"text-align: right;\">\n      <th></th>\n      <th>AALR3</th>\n      <th>ABEV3</th>\n      <th>AGRO3</th>\n      <th>ALPA4</th>\n      <th>ALSO3</th>\n      <th>ALUP11</th>\n      <th>AMAR3</th>\n      <th>ANIM3</th>\n      <th>ARZZ3</th>\n      <th>B3SA3</th>\n      <th>...</th>\n      <th>YDUQ3</th>\n      <th>DTEX3</th>\n      <th>EZTC3</th>\n      <th>GNDI3</th>\n      <th>HAPV3</th>\n      <th>LWSA3</th>\n      <th>MGLU3</th>\n      <th>PNVL3</th>\n      <th>RADL3</th>\n      <th>WEGE3</th>\n    </tr>\n  </thead>\n  <tbody>\n    <tr>\n      <th>Position</th>\n      <td>119.0</td>\n      <td>92.0</td>\n      <td>70.0</td>\n      <td>141.0</td>\n      <td>68.0</td>\n      <td>6.0</td>\n      <td>41.0</td>\n      <td>128.0</td>\n      <td>142.0</td>\n      <td>143.0</td>\n      <td>...</td>\n      <td>78.0</td>\n      <td>NaN</td>\n      <td>NaN</td>\n      <td>NaN</td>\n      <td>NaN</td>\n      <td>NaN</td>\n      <td>NaN</td>\n      <td>NaN</td>\n      <td>NaN</td>\n      <td>NaN</td>\n    </tr>\n    <tr>\n      <th>Position</th>\n      <td>144.0</td>\n      <td>22.0</td>\n      <td>85.0</td>\n      <td>19.0</td>\n      <td>133.0</td>\n      <td>30.0</td>\n      <td>49.0</td>\n      <td>120.0</td>\n      <td>31.0</td>\n      <td>35.0</td>\n      <td>...</td>\n      <td>16.0</td>\n      <td>145.0</td>\n      <td>121.0</td>\n      <td>80.0</td>\n      <td>67.0</td>\n      <td>101.0</td>\n      <td>106.0</td>\n      <td>65.0</td>\n      <td>61.0</td>\n      <td>10.0</td>\n    </tr>\n  </tbody>\n</table>\n<p>2 rows × 158 columns</p>\n</div>"
          },
          "metadata": {},
          "execution_count": 11
        }
      ]
    },
    {
      "cell_type": "code",
      "metadata": {
        "id": "XF2ZcqoIa_BK",
        "colab_type": "code",
        "colab": {
          "base_uri": "https://localhost:8080/",
          "height": 289
        },
        "outputId": "2a57b7ea-fca3-4852-fc6f-740fd0a3daa8"
      },
      "source": [
        "rank = t.dropna(axis=1).sum().sort_values()\n",
        "rank[:15]"
      ],
      "execution_count": 12,
      "outputs": [
        {
          "output_type": "execute_result",
          "data": {
            "text/plain": "PSSA3      3.0\nWIZS3      4.0\nSMLS3      8.0\nSAPR11    22.0\nSAPR4     22.0\nVALE3     22.0\nSAPR3     25.0\nLEVE3     26.0\nBEEF3     26.0\nEQTL3     34.0\nMRFG3     35.0\nALUP11    36.0\nTRPL4     44.0\nCVCB3     48.0\nENAT3     52.0\ndtype: float64"
          },
          "metadata": {},
          "execution_count": 12
        }
      ]
    },
    {
      "cell_type": "code",
      "execution_count": 20,
      "metadata": {},
      "outputs": [
        {
          "output_type": "execute_result",
          "data": {
            "text/plain": "'{\"PSSA3\":3.0,\"WIZS3\":4.0,\"SMLS3\":8.0,\"SAPR11\":22.0,\"SAPR4\":22.0,\"VALE3\":22.0,\"SAPR3\":25.0,\"LEVE3\":26.0,\"BEEF3\":26.0,\"EQTL3\":34.0,\"MRFG3\":35.0,\"ALUP11\":36.0,\"TRPL4\":44.0,\"CVCB3\":48.0,\"ENAT3\":52.0,\"TGMA3\":55.0,\"WSON33\":55.0,\"QUAL3\":58.0,\"PCAR3\":58.0,\"CSMG3\":64.0,\"TEND3\":64.0,\"ODPV3\":69.0,\"RAPT4\":70.0,\"JBSS3\":75.0,\"SBSP3\":75.0,\"ENBR3\":76.0,\"TIET4\":77.0,\"CMIG3\":77.0,\"CMIG4\":77.0,\"TIET11\":80.0,\"TUPY3\":82.0,\"CPLE3\":82.0,\"CPLE6\":82.0,\"TIET3\":85.0,\"CPFE3\":87.0,\"LREN3\":89.0,\"EGIE3\":89.0,\"AMAR3\":90.0,\"YDUQ3\":94.0,\"CRFB3\":96.0,\"TOTS3\":98.0,\"PETR4\":99.0,\"ECOR3\":99.0,\"SEER3\":101.0,\"PETR3\":101.0,\"PFRM3\":103.0,\"HGTX3\":104.0,\"VULC3\":104.0,\"RANI3\":109.0,\"UNIP6\":110.0,\"BRFS3\":111.0,\"CCRO3\":114.0,\"ABEV3\":114.0,\"SLCE3\":115.0,\"TAEE11\":119.0,\"NEOE3\":121.0,\"TAEE4\":121.0,\"TIMP3\":122.0,\"MOVI3\":122.0,\"CARD3\":122.0,\"SULA11\":123.0,\"VLID3\":124.0,\"PARD3\":127.0,\"CSNA3\":130.0,\"GPCP3\":141.0,\"TRIS3\":142.0,\"LPSB3\":145.0,\"GRND3\":149.0,\"JPSA3\":152.0,\"GBIO33\":154.0,\"AGRO3\":155.0,\"CLSC4\":156.0,\"ALPA4\":160.0,\"MYPK3\":161.0,\"LAME3\":163.0,\"LAME4\":165.0,\"RLOG3\":166.0,\"LIGT3\":166.0,\"CEAB3\":166.0,\"KEPL3\":168.0,\"MTRE3\":169.0,\"LCAM3\":172.0,\"ARZZ3\":173.0,\"SMTO3\":175.0,\"MULT3\":176.0,\"GOAU4\":178.0,\"B3SA3\":178.0,\"SHUL4\":179.0,\"CCPR3\":181.0,\"TASA4\":183.0,\"CIEL3\":184.0,\"DIRR3\":186.0,\"COCE5\":188.0,\"BRML3\":189.0,\"VIVT3\":194.0,\"VIVT4\":194.0,\"ENGI11\":196.0,\"JSLG3\":197.0,\"ALSO3\":201.0,\"ENEV3\":202.0,\"BRDT3\":207.0,\"POSI3\":209.0,\"IGTA3\":210.0,\"MRVE3\":211.0,\"MDIA3\":211.0,\"HYPE3\":214.0,\"ELET6\":214.0,\"POMO3\":214.0,\"ELET3\":215.0,\"POMO4\":216.0,\"UGPA3\":218.0,\"KLBN4\":218.0,\"KLBN3\":218.0,\"KLBN11\":218.0,\"LOGN3\":220.0,\"LINX3\":220.0,\"TESA3\":223.0,\"RENT3\":226.0,\"CESP6\":226.0,\"GOLL4\":230.0,\"PRIO3\":231.0,\"FLRY3\":233.0,\"GGBR3\":233.0,\"GUAR3\":239.0,\"ROMI3\":241.0,\"RAIL3\":244.0,\"GGBR4\":245.0,\"ANIM3\":248.0,\"CSAN3\":251.0,\"VVAR3\":260.0,\"FESA4\":261.0,\"AALR3\":263.0,\"CAMB3\":265.0,\"CYRE3\":266.0,\"EVEN3\":273.0,\"OMGE3\":274.0,\"PRNR3\":291.0,\"JHSF3\":294.0,\"SUZB3\":295.0,\"CAML3\":299.0}'"
          },
          "metadata": {},
          "execution_count": 20
        }
      ],
      "source": [
        "pd.DataFrame.to_json(rank)"
      ]
    },
    {
      "cell_type": "code",
      "metadata": {
        "id": "0uKrKU5jFOsp",
        "colab_type": "code",
        "colab": {}
      },
      "source": [
        "# Cotação, P/L, EBITDA, Div.Yield, ROE, EV/EBIT\n",
        "# Comparar papéis do mesmo setor\n",
        "# lista = df.loc[:, ['Papel', 'Cotação', 'P/L', 'Div.Yield', 'ROE', 'EV/EBIT']]"
      ],
      "execution_count": 13,
      "outputs": []
    },
    {
      "cell_type": "code",
      "metadata": {
        "id": "fjJVMtKKhf2p",
        "colab_type": "code",
        "colab": {}
      },
      "source": [
        "from concurrent.futures import ThreadPoolExecutor, as_completed"
      ],
      "execution_count": 103,
      "outputs": []
    },
    {
      "cell_type": "code",
      "metadata": {
        "id": "Dr1PNJwChidz",
        "colab_type": "code",
        "colab": {}
      },
      "source": [
        "def get(url, timeout):\n",
        "    return requests.get(url, headers=header, timeout = timeout)"
      ],
      "execution_count": 104,
      "outputs": []
    },
    {
      "cell_type": "code",
      "metadata": {
        "id": "UYIvhEkWhnqo",
        "colab_type": "code",
        "colab": {}
      },
      "source": [
        "def requestUrls(urls, timeout = 5):\n",
        "    with ThreadPoolExecutor(max_workers = 5) as executor:\n",
        "        agenda = { executor.submit(get, url, timeout): url for url in urls }\n",
        "\n",
        "        for tarefa in as_completed(agenda):     \n",
        "            try:\n",
        "                conteudo = tarefa.result()\n",
        "            except Exception as e:\n",
        "                print (\"Não foi possível fazer a requisição! \\n{}\".format(e))\n",
        "            else:\n",
        "                yield conteudo"
      ],
      "execution_count": 105,
      "outputs": []
    },
    {
      "cell_type": "code",
      "metadata": {
        "id": "RHYu9JMyhuOt",
        "colab_type": "code",
        "colab": {}
      },
      "source": [
        "urls = 'https://www.fundamentus.com.br/detalhes.php?papel=' + lista['Papel'].values\n",
        "# urls = 'https://www.fundamentus.com.br/detalhes.php?papel=' + df['Papel'].values\n",
        "# urls = 'https://www.fundamentus.com.br/detalhes.php?papel=' + dflist['Papel'].values"
      ],
      "execution_count": 106,
      "outputs": []
    },
    {
      "cell_type": "code",
      "metadata": {
        "id": "VtbdJg2Ah2Ay",
        "colab_type": "code",
        "colab": {}
      },
      "source": [
        "requisicoes = requestUrls(urls, timeout=7)"
      ],
      "execution_count": 107,
      "outputs": []
    },
    {
      "cell_type": "code",
      "metadata": {
        "id": "WXZ2WwBjM7JY",
        "colab_type": "code",
        "colab": {}
      },
      "source": [
        "lista_empresas = []"
      ],
      "execution_count": 108,
      "outputs": []
    },
    {
      "cell_type": "code",
      "metadata": {
        "id": "K4CZnyguiEKj",
        "colab_type": "code",
        "colab": {}
      },
      "source": [
        "for requisicao in requisicoes:\n",
        "    codigo = requisicao.status_code\n",
        "    url = requisicao.url\n",
        "    conteudo = requisicao.content\n",
        "    lista_empresas += [conteudo]\n",
        "    # print (\"{}: {}\".format(codigo, url))"
      ],
      "execution_count": 109,
      "outputs": []
    },
    {
      "cell_type": "code",
      "metadata": {
        "id": "TSKsKPnNVsOL",
        "colab_type": "code",
        "colab": {}
      },
      "source": [
        "html_data = []"
      ],
      "execution_count": 110,
      "outputs": []
    },
    {
      "cell_type": "code",
      "metadata": {
        "id": "sEAnYEP6Wxhh",
        "colab_type": "code",
        "colab": {}
      },
      "source": [
        "# Papel que quer pesquisar\n",
        "papel = ['WEGE3', 'USIM5']"
      ],
      "execution_count": 162,
      "outputs": []
    },
    {
      "cell_type": "code",
      "metadata": {
        "id": "a6hT2nGZwKF-",
        "colab_type": "code",
        "colab": {}
      },
      "source": [
        "from bs4 import BeautifulSoup"
      ],
      "execution_count": 112,
      "outputs": []
    },
    {
      "cell_type": "code",
      "metadata": {
        "id": "HfA5lYg6wAl_",
        "colab_type": "code",
        "colab": {}
      },
      "source": [
        "def readHTML(content):\n",
        "  soup = BeautifulSoup(content, 'html.parser')\n",
        "  jsonlist = []\n",
        "  for tr in soup.find_all('tr'):\n",
        "    tds = soup.find_all('td')\n",
        "    papel_html = tds[1].text\n",
        "    cotacao_html = tds[3].text\n",
        "    cotacao_html = cotacao_html.replace('.', '')\n",
        "    cotacao_html = cotacao_html.replace(',', '.')\n",
        "    cotacao_html = round(float(cotacao_html), 2)\n",
        "    empresa_html = tds[9].text\n",
        "    setor_html = tds[13].text\n",
        "    subsetor_html = tds[17].text\n",
        "    p_l_html = tds[33].text\n",
        "    p_l_html = p_l_html.replace('.', '')\n",
        "    p_l_html = p_l_html.replace(',', '.')\n",
        "    div_yield_html = tds[75].text\n",
        "    div_yield_html = div_yield_html.replace('.', '')\n",
        "    div_yield_html = div_yield_html.replace(',', '.')\n",
        "    div_yield_html = div_yield_html.replace('%', '')\n",
        "    div_yield_html = round(float(div_yield_html), 4)\n",
        "    roe_html = tds[77].text\n",
        "    roe_html = roe_html.replace('.', '')\n",
        "    roe_html = roe_html.replace(',', '.')\n",
        "    roe_html = roe_html.replace('%', '')\n",
        "    roe_html = round((float(roe_html) / 100), 4)\n",
        "    valor_firma_html = tds[25].text\n",
        "    valor_firma_html = valor_firma_html.replace('.', '')\n",
        "    valor_firma_html = valor_firma_html.replace(',', '.')\n",
        "    valor_firma_html = round(float(valor_firma_html), 2)\n",
        "    ev_ebitda_html = tds[81].text\n",
        "    ev_ebitda_html = ev_ebitda_html.replace('.', '')\n",
        "    ev_ebitda_html = ev_ebitda_html.replace(',', '.')\n",
        "    ev_ebitda_html = round(float(ev_ebitda_html), 2)\n",
        "    ebitda_html = round((valor_firma_html / ev_ebitda_html), 2)\n",
        "\n",
        "    mid_string = (' \\\n",
        "      \"papel\": \"{}\", \\\n",
        "      \"cotacao\": {}, \\\n",
        "      \"empresa\": \"{}\", \\\n",
        "      \"setor\": \"{}\", \\\n",
        "      \"subsetor\": \"{}\", \\\n",
        "      \"p_l\": {}, \\\n",
        "      \"dividend_yield\": {}, \\\n",
        "      \"roe\": {}, \\\n",
        "      \"enterprise_value\": {}, \\\n",
        "      \"ev_ebitda\": {}, \\\n",
        "      \"ebitda\": {}'.format(papel_html, cotacao_html, empresa_html, setor_html, subsetor_html, p_l_html, div_yield_html, roe_html, valor_firma_html, ev_ebitda_html, ebitda_html))\n",
        "    \n",
        "    complete_string = '{ \"ticket\": {' + mid_string + '} }'\n",
        "    return complete_string"
      ],
      "execution_count": 163,
      "outputs": []
    },
    {
      "cell_type": "code",
      "metadata": {
        "id": "SMw30-ZyxVnm",
        "colab_type": "code",
        "colab": {}
      },
      "source": [
        "import json"
      ],
      "execution_count": null,
      "outputs": []
    },
    {
      "cell_type": "code",
      "metadata": {
        "id": "y6Ou47WEQAmT",
        "colab_type": "code",
        "colab": {
          "base_uri": "https://localhost:8080/",
          "height": 71
        },
        "outputId": "816dd118-5716-47af-d4fc-410787ab8326"
      },
      "source": [
        "for i in range(len(lista_empresas)):\n",
        "  ticket = pd.read_html(lista_empresas[i])[0][1][0]\n",
        "  for j in range(len(papel)):\n",
        "    if ticket == papel[j]:\n",
        "      conteudo = lista_empresas[i]\n",
        "      html_data = [conteudo]\n",
        "      complete_string = readHTML(conteudo)\n",
        "      print (complete_string)\n",
        "      j = eval(complete_string)\n",
        "      # r = requests.post('http://localhost:3333', json=j)\n",
        "      "
      ],
      "execution_count": 173,
      "outputs": [
        {
          "output_type": "stream",
          "text": [
            "{ \"ticket\": {       \"papel\": \"USIM5\",       \"cotacao\": 7.52,       \"empresa\": \"USIMINAS PNA N1\",       \"setor\": \"Siderurgia e Metalurgia\",       \"subsetor\": \"Siderurgia\",       \"p_l\": -30.38,       \"dividend_yield\": 0.6,       \"roe\": -0.022,       \"enterprise_value\": 12975900000.0,       \"ev_ebitda\": 6.08,       \"ebitda\": 2134194078.95} }\n",
            "{ \"ticket\": {       \"papel\": \"WEGE3\",       \"cotacao\": 53.99,       \"empresa\": \"WEG SA ON N1\",       \"setor\": \"Máquinas e Equipamentos\",       \"subsetor\": \"Motores, Compressores e Outros\",       \"p_l\": 64.83,       \"dividend_yield\": 0.7,       \"roe\": 0.181,       \"enterprise_value\": 112871000000.0,       \"ev_ebitda\": 41.52,       \"ebitda\": 2718473025.05} }\n"
          ],
          "name": "stdout"
        }
      ]
    }
  ],
  "metadata": {
    "colab": {
      "name": "Análise Fundamentalista.ipynb",
      "provenance": [],
      "collapsed_sections": [],
      "authorship_tag": "ABX9TyNfIrXjQMBhvZSMbZs9HKAj",
      "include_colab_link": true
    },
    "kernelspec": {
      "name": "python_defaultSpec_1596626148710",
      "display_name": "Python 3.7.6 64-bit ('base': conda)"
    }
  },
  "nbformat": 4,
  "nbformat_minor": 0
}