{
  "cells": [
    {
      "cell_type": "markdown",
      "metadata": {
        "id": "view-in-github",
        "colab_type": "text"
      },
      "source": [
        "<a href=\"https://colab.research.google.com/github/JandreiSS/analise-fundamentalista/blob/master/An%C3%A1lise_Fundamentalista.ipynb\" target=\"_parent\"><img src=\"https://colab.research.google.com/assets/colab-badge.svg\" alt=\"Open In Colab\"/></a>"
      ]
    },
    {
      "cell_type": "code",
      "metadata": {
        "id": "g7PsqnqqHVgO",
        "colab_type": "code",
        "colab": {}
      },
      "source": [
        "import numpy as np\n",
        "import pandas as pd\n",
        "import string\n",
        "import requests\n",
        "import warnings\n",
        "warnings.filterwarnings('ignore')"
      ],
      "execution_count": 1,
      "outputs": []
    },
    {
      "cell_type": "code",
      "metadata": {
        "id": "0qVH6TQbHYUy",
        "colab_type": "code",
        "colab": {}
      },
      "source": [
        "url = 'http://fundamentus.com.br/resultado.php'"
      ],
      "execution_count": 2,
      "outputs": []
    },
    {
      "cell_type": "code",
      "metadata": {
        "id": "QRoqRLWvIE8Q",
        "colab_type": "code",
        "colab": {}
      },
      "source": [
        "header = {\n",
        "  \"User-Agent\": \"Mozilla/5.0 (X11; Linux x86_64) AppleWebKit/537.36 (KHTML, like Gecko) Chrome/50.0.2661.75 Safari/537.36\",\n",
        "  \"X-Requested-With\": \"XMLHttpRequest\"\n",
        "}"
      ],
      "execution_count": 3,
      "outputs": []
    },
    {
      "cell_type": "code",
      "metadata": {
        "id": "oijVwTEBIMAv",
        "colab_type": "code",
        "colab": {}
      },
      "source": [
        "r = requests.get(url, headers=header)"
      ],
      "execution_count": 4,
      "outputs": []
    },
    {
      "cell_type": "code",
      "metadata": {
        "id": "MzcZyIfoHfy_",
        "colab_type": "code",
        "colab": {}
      },
      "source": [
        "dflist = pd.read_html(r.text, thousands='.', decimal=',')[0]"
      ],
      "execution_count": 5,
      "outputs": []
    },
    {
      "cell_type": "code",
      "metadata": {
        "id": "6KLy975WTORj",
        "colab_type": "code",
        "colab": {}
      },
      "source": [
        "for coluna in ['Div.Yield', 'Mrg Ebit', 'Mrg. Líq.', 'ROIC', 'ROE', 'Cresc. Rec.5a']:\n",
        "  dflist[coluna] = dflist[coluna].str.replace('.', '')\n",
        "  dflist[coluna] = dflist[coluna].str.replace(',', '.')\n",
        "  dflist[coluna] = dflist[coluna].str.rstrip('%').astype('float') / 100"
      ],
      "execution_count": 6,
      "outputs": []
    },
    {
      "cell_type": "code",
      "metadata": {
        "id": "RA5St-BDHkFu",
        "colab_type": "code",
        "colab": {}
      },
      "source": [
        "# dflist['Papel'].values"
      ],
      "execution_count": 7,
      "outputs": []
    },
    {
      "cell_type": "markdown",
      "metadata": {
        "id": "ZGXGAg_ZUvct",
        "colab_type": "text"
      },
      "source": [
        "#<strong>Analisando Dados</strong>"
      ]
    },
    {
      "cell_type": "code",
      "metadata": {
        "id": "mLdgkDf8Idn4",
        "colab_type": "code",
        "colab": {}
      },
      "source": [
        "df = dflist[dflist['Liq.2meses'] > 1000000]"
      ],
      "execution_count": 8,
      "outputs": []
    },
    {
      "cell_type": "markdown",
      "metadata": {
        "id": "CzbP_qpGWwfV",
        "colab_type": "text"
      },
      "source": [
        "<p><strong>Enterprise Value / Earnings Before Interest and Taxes</strong></p>\n",
        "<p>(Valor do Negócio / Lucro Antes dos Juros e Taxas)</p>"
      ]
    },
    {
      "cell_type": "code",
      "metadata": {
        "id": "QPg_prr-WL70",
        "colab_type": "code",
        "colab": {}
      },
      "source": [
        "ranking = pd.DataFrame()\n",
        "ranking['Position'] = range(1,151)\n",
        "ranking['EV/EBIT'] = df[df['EV/EBIT'] > 0].sort_values(by=['EV/EBIT'])['Papel'][:150].values\n",
        "ranking['ROIC'] = df.sort_values(by=['ROIC'], ascending=False)['Papel'][:150].values"
      ],
      "execution_count": 9,
      "outputs": []
    },
    {
      "cell_type": "code",
      "metadata": {
        "id": "9FLjZutuVnCY",
        "colab_type": "code",
        "colab": {
          "base_uri": "https://localhost:8080/",
          "height": 419
        },
        "outputId": "f0f202ed-c0a8-400b-97da-c39e9ff210f4"
      },
      "source": [
        "ranking"
      ],
      "execution_count": 10,
      "outputs": [
        {
          "output_type": "execute_result",
          "data": {
            "text/plain": "     Position EV/EBIT   ROIC\n0           1   PSSA3  WIZS3\n1           2   SMLS3  PSSA3\n2           3   WIZS3  TOTS3\n3           4   ENAT3  ODPV3\n4           5  ALUP11  SMLS3\n..        ...     ...    ...\n145       146   PTBL3  JHSF3\n146       147   GNDI3  CAML3\n147       148   JHSF3  BRKM5\n148       149   PNVL3  LOGG3\n149       150   PRNR3  GFSA3\n\n[150 rows x 3 columns]",
            "text/html": "<div>\n<style scoped>\n    .dataframe tbody tr th:only-of-type {\n        vertical-align: middle;\n    }\n\n    .dataframe tbody tr th {\n        vertical-align: top;\n    }\n\n    .dataframe thead th {\n        text-align: right;\n    }\n</style>\n<table border=\"1\" class=\"dataframe\">\n  <thead>\n    <tr style=\"text-align: right;\">\n      <th></th>\n      <th>Position</th>\n      <th>EV/EBIT</th>\n      <th>ROIC</th>\n    </tr>\n  </thead>\n  <tbody>\n    <tr>\n      <th>0</th>\n      <td>1</td>\n      <td>PSSA3</td>\n      <td>WIZS3</td>\n    </tr>\n    <tr>\n      <th>1</th>\n      <td>2</td>\n      <td>SMLS3</td>\n      <td>PSSA3</td>\n    </tr>\n    <tr>\n      <th>2</th>\n      <td>3</td>\n      <td>WIZS3</td>\n      <td>TOTS3</td>\n    </tr>\n    <tr>\n      <th>3</th>\n      <td>4</td>\n      <td>ENAT3</td>\n      <td>ODPV3</td>\n    </tr>\n    <tr>\n      <th>4</th>\n      <td>5</td>\n      <td>ALUP11</td>\n      <td>SMLS3</td>\n    </tr>\n    <tr>\n      <th>...</th>\n      <td>...</td>\n      <td>...</td>\n      <td>...</td>\n    </tr>\n    <tr>\n      <th>145</th>\n      <td>146</td>\n      <td>PTBL3</td>\n      <td>JHSF3</td>\n    </tr>\n    <tr>\n      <th>146</th>\n      <td>147</td>\n      <td>GNDI3</td>\n      <td>CAML3</td>\n    </tr>\n    <tr>\n      <th>147</th>\n      <td>148</td>\n      <td>JHSF3</td>\n      <td>BRKM5</td>\n    </tr>\n    <tr>\n      <th>148</th>\n      <td>149</td>\n      <td>PNVL3</td>\n      <td>LOGG3</td>\n    </tr>\n    <tr>\n      <th>149</th>\n      <td>150</td>\n      <td>PRNR3</td>\n      <td>GFSA3</td>\n    </tr>\n  </tbody>\n</table>\n<p>150 rows × 3 columns</p>\n</div>"
          },
          "metadata": {},
          "execution_count": 10
        }
      ]
    },
    {
      "cell_type": "markdown",
      "metadata": {
        "id": "eeX9Ccz5aIwr",
        "colab_type": "text"
      },
      "source": [
        "Cálculo utilizando o rankeamento pela Fórmula Mágica: Buscar o papel, pegando a posição que ele tem no EV/EBIT e somando a posição que ele tem no ROIC. Quanto menor, melhor"
      ]
    },
    {
      "cell_type": "code",
      "metadata": {
        "id": "agIOJRtJaAjY",
        "colab_type": "code",
        "colab": {}
      },
      "source": [
        "auxA = ranking.pivot_table(columns='EV/EBIT', values='Position')\n",
        "auxB = ranking.pivot_table(columns='ROIC', values='Position')\n",
        "t = pd.concat([auxA, auxB])"
      ],
      "execution_count": 11,
      "outputs": []
    },
    {
      "cell_type": "code",
      "metadata": {
        "id": "JA3ps7uaa-Mb",
        "colab_type": "code",
        "colab": {
          "base_uri": "https://localhost:8080/",
          "height": 160
        },
        "outputId": "59a6db53-a0d5-4eea-bca5-1596d37ac9a0"
      },
      "source": [
        "t"
      ],
      "execution_count": 12,
      "outputs": [
        {
          "output_type": "execute_result",
          "data": {
            "text/plain": "          AALR3  ABEV3  AGRO3  ALPA4  ALSO3  ALUP11  AMAR3  ANIM3  ARZZ3  \\\nPosition  114.0   85.0   64.0  136.0   84.0     5.0   50.0  122.0  138.0   \nPosition  141.0   15.0   84.0   20.0  131.0    29.0   52.0  116.0   30.0   \n\n          B3SA3  ...  VULC3  VVAR3  WIZS3  WSON33  YDUQ3  EZTC3  HAPV3  LWSA3  \\\nPosition  139.0  ...   52.0  143.0    3.0    25.0   76.0    NaN    NaN    NaN   \nPosition   34.0  ...   65.0  110.0    1.0    28.0   17.0  117.0   71.0   99.0   \n\n          MGLU3  WEGE3  \nPosition    NaN    NaN  \nPosition  107.0   11.0  \n\n[2 rows x 154 columns]",
            "text/html": "<div>\n<style scoped>\n    .dataframe tbody tr th:only-of-type {\n        vertical-align: middle;\n    }\n\n    .dataframe tbody tr th {\n        vertical-align: top;\n    }\n\n    .dataframe thead th {\n        text-align: right;\n    }\n</style>\n<table border=\"1\" class=\"dataframe\">\n  <thead>\n    <tr style=\"text-align: right;\">\n      <th></th>\n      <th>AALR3</th>\n      <th>ABEV3</th>\n      <th>AGRO3</th>\n      <th>ALPA4</th>\n      <th>ALSO3</th>\n      <th>ALUP11</th>\n      <th>AMAR3</th>\n      <th>ANIM3</th>\n      <th>ARZZ3</th>\n      <th>B3SA3</th>\n      <th>...</th>\n      <th>VULC3</th>\n      <th>VVAR3</th>\n      <th>WIZS3</th>\n      <th>WSON33</th>\n      <th>YDUQ3</th>\n      <th>EZTC3</th>\n      <th>HAPV3</th>\n      <th>LWSA3</th>\n      <th>MGLU3</th>\n      <th>WEGE3</th>\n    </tr>\n  </thead>\n  <tbody>\n    <tr>\n      <th>Position</th>\n      <td>114.0</td>\n      <td>85.0</td>\n      <td>64.0</td>\n      <td>136.0</td>\n      <td>84.0</td>\n      <td>5.0</td>\n      <td>50.0</td>\n      <td>122.0</td>\n      <td>138.0</td>\n      <td>139.0</td>\n      <td>...</td>\n      <td>52.0</td>\n      <td>143.0</td>\n      <td>3.0</td>\n      <td>25.0</td>\n      <td>76.0</td>\n      <td>NaN</td>\n      <td>NaN</td>\n      <td>NaN</td>\n      <td>NaN</td>\n      <td>NaN</td>\n    </tr>\n    <tr>\n      <th>Position</th>\n      <td>141.0</td>\n      <td>15.0</td>\n      <td>84.0</td>\n      <td>20.0</td>\n      <td>131.0</td>\n      <td>29.0</td>\n      <td>52.0</td>\n      <td>116.0</td>\n      <td>30.0</td>\n      <td>34.0</td>\n      <td>...</td>\n      <td>65.0</td>\n      <td>110.0</td>\n      <td>1.0</td>\n      <td>28.0</td>\n      <td>17.0</td>\n      <td>117.0</td>\n      <td>71.0</td>\n      <td>99.0</td>\n      <td>107.0</td>\n      <td>11.0</td>\n    </tr>\n  </tbody>\n</table>\n<p>2 rows × 154 columns</p>\n</div>"
          },
          "metadata": {},
          "execution_count": 12
        }
      ]
    },
    {
      "cell_type": "code",
      "metadata": {
        "id": "XF2ZcqoIa_BK",
        "colab_type": "code",
        "colab": {
          "base_uri": "https://localhost:8080/",
          "height": 289
        },
        "outputId": "2a57b7ea-fca3-4852-fc6f-740fd0a3daa8"
      },
      "source": [
        "rank = t.dropna(axis=1).sum().sort_values()\n",
        "rank[:15]"
      ],
      "execution_count": 13,
      "outputs": [
        {
          "output_type": "execute_result",
          "data": {
            "text/plain": "PSSA3      3.0\nWIZS3      4.0\nSMLS3      7.0\nSAPR4     20.0\nSAPR11    22.0\nSAPR3     23.0\nVALE3     24.0\nLEVE3     31.0\nALUP11    34.0\nEQTL3     34.0\nMRFG3     35.0\nBEEF3     37.0\nTGMA3     46.0\nCVCB3     49.0\nENAT3     53.0\ndtype: float64"
          },
          "metadata": {},
          "execution_count": 13
        }
      ]
    },
    {
      "cell_type": "code",
      "metadata": {
        "id": "0uKrKU5jFOsp",
        "colab_type": "code",
        "colab": {}
      },
      "source": [
        "# Cotação, P/L, EBITDA, Div.Yield, ROE, EV/EBIT\n",
        "# Comparar papéis do mesmo setor\n",
        "# lista = df.loc[:, ['Papel', 'Cotação', 'P/L', 'Div.Yield', 'ROE', 'EV/EBIT']]"
      ],
      "execution_count": 13,
      "outputs": []
    },
    {
      "cell_type": "code",
      "metadata": {
        "id": "fjJVMtKKhf2p",
        "colab_type": "code",
        "colab": {}
      },
      "source": [
        "from concurrent.futures import ThreadPoolExecutor, as_completed"
      ],
      "execution_count": 103,
      "outputs": []
    },
    {
      "cell_type": "code",
      "metadata": {
        "id": "Dr1PNJwChidz",
        "colab_type": "code",
        "colab": {}
      },
      "source": [
        "def get(url, timeout):\n",
        "    return requests.get(url, headers=header, timeout = timeout)"
      ],
      "execution_count": 104,
      "outputs": []
    },
    {
      "cell_type": "code",
      "metadata": {
        "id": "UYIvhEkWhnqo",
        "colab_type": "code",
        "colab": {}
      },
      "source": [
        "def requestUrls(urls, timeout = 5):\n",
        "    with ThreadPoolExecutor(max_workers = 5) as executor:\n",
        "        agenda = { executor.submit(get, url, timeout): url for url in urls }\n",
        "\n",
        "        for tarefa in as_completed(agenda):     \n",
        "            try:\n",
        "                conteudo = tarefa.result()\n",
        "            except Exception as e:\n",
        "                print (\"Não foi possível fazer a requisição! \\n{}\".format(e))\n",
        "            else:\n",
        "                yield conteudo"
      ],
      "execution_count": 105,
      "outputs": []
    },
    {
      "cell_type": "code",
      "metadata": {
        "id": "RHYu9JMyhuOt",
        "colab_type": "code",
        "colab": {}
      },
      "source": [
        "urls = 'https://www.fundamentus.com.br/detalhes.php?papel=' + lista['Papel'].values\n",
        "# urls = 'https://www.fundamentus.com.br/detalhes.php?papel=' + df['Papel'].values\n",
        "# urls = 'https://www.fundamentus.com.br/detalhes.php?papel=' + dflist['Papel'].values"
      ],
      "execution_count": 106,
      "outputs": []
    },
    {
      "cell_type": "code",
      "metadata": {
        "id": "VtbdJg2Ah2Ay",
        "colab_type": "code",
        "colab": {}
      },
      "source": [
        "requisicoes = requestUrls(urls, timeout=7)"
      ],
      "execution_count": 107,
      "outputs": []
    },
    {
      "cell_type": "code",
      "metadata": {
        "id": "WXZ2WwBjM7JY",
        "colab_type": "code",
        "colab": {}
      },
      "source": [
        "lista_empresas = []"
      ],
      "execution_count": 108,
      "outputs": []
    },
    {
      "cell_type": "code",
      "metadata": {
        "id": "K4CZnyguiEKj",
        "colab_type": "code",
        "colab": {}
      },
      "source": [
        "for requisicao in requisicoes:\n",
        "    codigo = requisicao.status_code\n",
        "    url = requisicao.url\n",
        "    conteudo = requisicao.content\n",
        "    lista_empresas += [conteudo]\n",
        "    # print (\"{}: {}\".format(codigo, url))"
      ],
      "execution_count": 109,
      "outputs": []
    },
    {
      "cell_type": "code",
      "metadata": {
        "id": "TSKsKPnNVsOL",
        "colab_type": "code",
        "colab": {}
      },
      "source": [
        "html_data = []"
      ],
      "execution_count": 110,
      "outputs": []
    },
    {
      "cell_type": "code",
      "metadata": {
        "id": "sEAnYEP6Wxhh",
        "colab_type": "code",
        "colab": {}
      },
      "source": [
        "# Papel que quer pesquisar\n",
        "papel = ['WEGE3', 'USIM5']"
      ],
      "execution_count": 162,
      "outputs": []
    },
    {
      "cell_type": "code",
      "metadata": {
        "id": "a6hT2nGZwKF-",
        "colab_type": "code",
        "colab": {}
      },
      "source": [
        "from bs4 import BeautifulSoup"
      ],
      "execution_count": 112,
      "outputs": []
    },
    {
      "cell_type": "code",
      "metadata": {
        "id": "HfA5lYg6wAl_",
        "colab_type": "code",
        "colab": {}
      },
      "source": [
        "def readHTML(content):\n",
        "  soup = BeautifulSoup(content, 'html.parser')\n",
        "  jsonlist = []\n",
        "  for tr in soup.find_all('tr'):\n",
        "    tds = soup.find_all('td')\n",
        "    papel_html = tds[1].text\n",
        "    cotacao_html = tds[3].text\n",
        "    cotacao_html = cotacao_html.replace('.', '')\n",
        "    cotacao_html = cotacao_html.replace(',', '.')\n",
        "    cotacao_html = round(float(cotacao_html), 2)\n",
        "    empresa_html = tds[9].text\n",
        "    setor_html = tds[13].text\n",
        "    subsetor_html = tds[17].text\n",
        "    p_l_html = tds[33].text\n",
        "    p_l_html = p_l_html.replace('.', '')\n",
        "    p_l_html = p_l_html.replace(',', '.')\n",
        "    div_yield_html = tds[75].text\n",
        "    div_yield_html = div_yield_html.replace('.', '')\n",
        "    div_yield_html = div_yield_html.replace(',', '.')\n",
        "    div_yield_html = div_yield_html.replace('%', '')\n",
        "    div_yield_html = round(float(div_yield_html), 4)\n",
        "    roe_html = tds[77].text\n",
        "    roe_html = roe_html.replace('.', '')\n",
        "    roe_html = roe_html.replace(',', '.')\n",
        "    roe_html = roe_html.replace('%', '')\n",
        "    roe_html = round((float(roe_html) / 100), 4)\n",
        "    valor_firma_html = tds[25].text\n",
        "    valor_firma_html = valor_firma_html.replace('.', '')\n",
        "    valor_firma_html = valor_firma_html.replace(',', '.')\n",
        "    valor_firma_html = round(float(valor_firma_html), 2)\n",
        "    ev_ebitda_html = tds[81].text\n",
        "    ev_ebitda_html = ev_ebitda_html.replace('.', '')\n",
        "    ev_ebitda_html = ev_ebitda_html.replace(',', '.')\n",
        "    ev_ebitda_html = round(float(ev_ebitda_html), 2)\n",
        "    ebitda_html = round((valor_firma_html / ev_ebitda_html), 2)\n",
        "\n",
        "    mid_string = (' \\\n",
        "      \"papel\": \"{}\", \\\n",
        "      \"cotacao\": {}, \\\n",
        "      \"empresa\": \"{}\", \\\n",
        "      \"setor\": \"{}\", \\\n",
        "      \"subsetor\": \"{}\", \\\n",
        "      \"p_l\": {}, \\\n",
        "      \"dividend_yield\": {}, \\\n",
        "      \"roe\": {}, \\\n",
        "      \"enterprise_value\": {}, \\\n",
        "      \"ev_ebitda\": {}, \\\n",
        "      \"ebitda\": {}'.format(papel_html, cotacao_html, empresa_html, setor_html, subsetor_html, p_l_html, div_yield_html, roe_html, valor_firma_html, ev_ebitda_html, ebitda_html))\n",
        "    \n",
        "    complete_string = '{ \"ticket\": {' + mid_string + '} }'\n",
        "    return complete_string"
      ],
      "execution_count": 163,
      "outputs": []
    },
    {
      "cell_type": "code",
      "metadata": {
        "id": "SMw30-ZyxVnm",
        "colab_type": "code",
        "colab": {}
      },
      "source": [
        "import json"
      ],
      "execution_count": null,
      "outputs": []
    },
    {
      "cell_type": "code",
      "metadata": {
        "id": "y6Ou47WEQAmT",
        "colab_type": "code",
        "colab": {
          "base_uri": "https://localhost:8080/",
          "height": 71
        },
        "outputId": "816dd118-5716-47af-d4fc-410787ab8326"
      },
      "source": [
        "for i in range(len(lista_empresas)):\n",
        "  ticket = pd.read_html(lista_empresas[i])[0][1][0]\n",
        "  for j in range(len(papel)):\n",
        "    if ticket == papel[j]:\n",
        "      conteudo = lista_empresas[i]\n",
        "      html_data = [conteudo]\n",
        "      complete_string = readHTML(conteudo)\n",
        "      print (complete_string)\n",
        "      j = eval(complete_string)\n",
        "      # r = requests.post('http://localhost:3333', json=j)\n",
        "      "
      ],
      "execution_count": 173,
      "outputs": [
        {
          "output_type": "stream",
          "text": [
            "{ \"ticket\": {       \"papel\": \"USIM5\",       \"cotacao\": 7.52,       \"empresa\": \"USIMINAS PNA N1\",       \"setor\": \"Siderurgia e Metalurgia\",       \"subsetor\": \"Siderurgia\",       \"p_l\": -30.38,       \"dividend_yield\": 0.6,       \"roe\": -0.022,       \"enterprise_value\": 12975900000.0,       \"ev_ebitda\": 6.08,       \"ebitda\": 2134194078.95} }\n",
            "{ \"ticket\": {       \"papel\": \"WEGE3\",       \"cotacao\": 53.99,       \"empresa\": \"WEG SA ON N1\",       \"setor\": \"Máquinas e Equipamentos\",       \"subsetor\": \"Motores, Compressores e Outros\",       \"p_l\": 64.83,       \"dividend_yield\": 0.7,       \"roe\": 0.181,       \"enterprise_value\": 112871000000.0,       \"ev_ebitda\": 41.52,       \"ebitda\": 2718473025.05} }\n"
          ],
          "name": "stdout"
        }
      ]
    }
  ],
  "metadata": {
    "colab": {
      "name": "Análise Fundamentalista.ipynb",
      "provenance": [],
      "collapsed_sections": [],
      "authorship_tag": "ABX9TyNfIrXjQMBhvZSMbZs9HKAj",
      "include_colab_link": true
    },
    "kernelspec": {
      "name": "python_defaultSpec_1595260172527",
      "display_name": "Python 3.7.6 64-bit ('base': conda)"
    }
  },
  "nbformat": 4,
  "nbformat_minor": 0
}