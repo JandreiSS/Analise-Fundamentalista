{
  "nbformat": 4,
  "nbformat_minor": 0,
  "metadata": {
    "colab": {
      "name": "Análise Fundamentalista.ipynb",
      "provenance": [],
      "collapsed_sections": [],
      "authorship_tag": "ABX9TyN3oQ8A73WDohDwLC6sShcq",
      "include_colab_link": true
    },
    "kernelspec": {
      "name": "python3",
      "display_name": "Python 3"
    }
  },
  "cells": [
    {
      "cell_type": "markdown",
      "metadata": {
        "id": "view-in-github",
        "colab_type": "text"
      },
      "source": [
        "<a href=\"https://colab.research.google.com/github/JandreiSS/analise-fundamentalista/blob/master/An%C3%A1lise_Fundamentalista.ipynb\" target=\"_parent\"><img src=\"https://colab.research.google.com/assets/colab-badge.svg\" alt=\"Open In Colab\"/></a>"
      ]
    },
    {
      "cell_type": "code",
      "metadata": {
        "id": "g7PsqnqqHVgO",
        "colab_type": "code",
        "colab": {}
      },
      "source": [
        "import numpy as np\n",
        "import pandas as pd\n",
        "import string\n",
        "import requests\n",
        "import warnings\n",
        "warnings.filterwarnings('ignore')"
      ],
      "execution_count": 1,
      "outputs": []
    },
    {
      "cell_type": "code",
      "metadata": {
        "id": "0qVH6TQbHYUy",
        "colab_type": "code",
        "colab": {}
      },
      "source": [
        "url = 'http://fundamentus.com.br/resultado.php'"
      ],
      "execution_count": 2,
      "outputs": []
    },
    {
      "cell_type": "code",
      "metadata": {
        "id": "QRoqRLWvIE8Q",
        "colab_type": "code",
        "colab": {}
      },
      "source": [
        "header = {\n",
        "  \"User-Agent\": \"Mozilla/5.0 (X11; Linux x86_64) AppleWebKit/537.36 (KHTML, like Gecko) Chrome/50.0.2661.75 Safari/537.36\",\n",
        "  \"X-Requested-With\": \"XMLHttpRequest\"\n",
        "}"
      ],
      "execution_count": 3,
      "outputs": []
    },
    {
      "cell_type": "code",
      "metadata": {
        "id": "oijVwTEBIMAv",
        "colab_type": "code",
        "colab": {}
      },
      "source": [
        "r = requests.get(url, headers=header)"
      ],
      "execution_count": 4,
      "outputs": []
    },
    {
      "cell_type": "code",
      "metadata": {
        "id": "MzcZyIfoHfy_",
        "colab_type": "code",
        "colab": {}
      },
      "source": [
        "dflist = pd.read_html(r.text, thousands='.', decimal=',')[0]"
      ],
      "execution_count": 5,
      "outputs": []
    },
    {
      "cell_type": "code",
      "metadata": {
        "id": "6KLy975WTORj",
        "colab_type": "code",
        "colab": {}
      },
      "source": [
        "for coluna in ['Div.Yield', 'Mrg Ebit', 'Mrg. Líq.', 'ROIC', 'ROE', 'Cresc. Rec.5a']:\n",
        "  dflist[coluna] = dflist[coluna].str.replace('.', '')\n",
        "  dflist[coluna] = dflist[coluna].str.replace(',', '.')\n",
        "  dflist[coluna] = dflist[coluna].str.rstrip('%').astype('float') / 100"
      ],
      "execution_count": 6,
      "outputs": []
    },
    {
      "cell_type": "code",
      "metadata": {
        "id": "RA5St-BDHkFu",
        "colab_type": "code",
        "colab": {}
      },
      "source": [
        "# dflist['Papel'].values"
      ],
      "execution_count": 7,
      "outputs": []
    },
    {
      "cell_type": "markdown",
      "metadata": {
        "id": "ZGXGAg_ZUvct",
        "colab_type": "text"
      },
      "source": [
        "#<strong>Analisando Dados</strong>"
      ]
    },
    {
      "cell_type": "code",
      "metadata": {
        "id": "mLdgkDf8Idn4",
        "colab_type": "code",
        "colab": {}
      },
      "source": [
        "df = dflist[dflist['Liq.2meses'] > 1000000]"
      ],
      "execution_count": 8,
      "outputs": []
    },
    {
      "cell_type": "markdown",
      "metadata": {
        "id": "CzbP_qpGWwfV",
        "colab_type": "text"
      },
      "source": [
        "<p><strong>Enterprise Value / Earnings Before Interest and Taxes</strong></p>\n",
        "<p>(Valor do Negócio / Lucro Antes dos Juros e Taxas)</p>"
      ]
    },
    {
      "cell_type": "code",
      "metadata": {
        "id": "QPg_prr-WL70",
        "colab_type": "code",
        "colab": {}
      },
      "source": [
        "ranking = pd.DataFrame()\n",
        "ranking['Position'] = range(1,151)\n",
        "ranking['EV/EBIT'] = df[df['EV/EBIT'] > 0].sort_values(by=['EV/EBIT'])['Papel'][:150].values\n",
        "ranking['ROIC'] = df.sort_values(by=['ROIC'], ascending=False)['Papel'][:150].values"
      ],
      "execution_count": 9,
      "outputs": []
    },
    {
      "cell_type": "code",
      "metadata": {
        "id": "9FLjZutuVnCY",
        "colab_type": "code",
        "colab": {
          "base_uri": "https://localhost:8080/",
          "height": 419
        },
        "outputId": "faf53d25-0b9e-4321-ce6a-b443f295e226"
      },
      "source": [
        "ranking"
      ],
      "execution_count": 10,
      "outputs": [
        {
          "output_type": "execute_result",
          "data": {
            "text/html": [
              "<div>\n",
              "<style scoped>\n",
              "    .dataframe tbody tr th:only-of-type {\n",
              "        vertical-align: middle;\n",
              "    }\n",
              "\n",
              "    .dataframe tbody tr th {\n",
              "        vertical-align: top;\n",
              "    }\n",
              "\n",
              "    .dataframe thead th {\n",
              "        text-align: right;\n",
              "    }\n",
              "</style>\n",
              "<table border=\"1\" class=\"dataframe\">\n",
              "  <thead>\n",
              "    <tr style=\"text-align: right;\">\n",
              "      <th></th>\n",
              "      <th>Position</th>\n",
              "      <th>EV/EBIT</th>\n",
              "      <th>ROIC</th>\n",
              "    </tr>\n",
              "  </thead>\n",
              "  <tbody>\n",
              "    <tr>\n",
              "      <th>0</th>\n",
              "      <td>1</td>\n",
              "      <td>PSSA3</td>\n",
              "      <td>WIZS3</td>\n",
              "    </tr>\n",
              "    <tr>\n",
              "      <th>1</th>\n",
              "      <td>2</td>\n",
              "      <td>GPIV33</td>\n",
              "      <td>PSSA3</td>\n",
              "    </tr>\n",
              "    <tr>\n",
              "      <th>2</th>\n",
              "      <td>3</td>\n",
              "      <td>SMLS3</td>\n",
              "      <td>TOTS3</td>\n",
              "    </tr>\n",
              "    <tr>\n",
              "      <th>3</th>\n",
              "      <td>4</td>\n",
              "      <td>WIZS3</td>\n",
              "      <td>ODPV3</td>\n",
              "    </tr>\n",
              "    <tr>\n",
              "      <th>4</th>\n",
              "      <td>5</td>\n",
              "      <td>ENAT3</td>\n",
              "      <td>SMLS3</td>\n",
              "    </tr>\n",
              "    <tr>\n",
              "      <th>...</th>\n",
              "      <td>...</td>\n",
              "      <td>...</td>\n",
              "      <td>...</td>\n",
              "    </tr>\n",
              "    <tr>\n",
              "      <th>145</th>\n",
              "      <td>146</td>\n",
              "      <td>RADL3</td>\n",
              "      <td>JHSF3</td>\n",
              "    </tr>\n",
              "    <tr>\n",
              "      <th>146</th>\n",
              "      <td>147</td>\n",
              "      <td>GNDI3</td>\n",
              "      <td>CAML3</td>\n",
              "    </tr>\n",
              "    <tr>\n",
              "      <th>147</th>\n",
              "      <td>148</td>\n",
              "      <td>PTBL3</td>\n",
              "      <td>BRKM5</td>\n",
              "    </tr>\n",
              "    <tr>\n",
              "      <th>148</th>\n",
              "      <td>149</td>\n",
              "      <td>LOGG3</td>\n",
              "      <td>LOGG3</td>\n",
              "    </tr>\n",
              "    <tr>\n",
              "      <th>149</th>\n",
              "      <td>150</td>\n",
              "      <td>HAPV3</td>\n",
              "      <td>GFSA3</td>\n",
              "    </tr>\n",
              "  </tbody>\n",
              "</table>\n",
              "<p>150 rows × 3 columns</p>\n",
              "</div>"
            ],
            "text/plain": [
              "     Position EV/EBIT   ROIC\n",
              "0           1   PSSA3  WIZS3\n",
              "1           2  GPIV33  PSSA3\n",
              "2           3   SMLS3  TOTS3\n",
              "3           4   WIZS3  ODPV3\n",
              "4           5   ENAT3  SMLS3\n",
              "..        ...     ...    ...\n",
              "145       146   RADL3  JHSF3\n",
              "146       147   GNDI3  CAML3\n",
              "147       148   PTBL3  BRKM5\n",
              "148       149   LOGG3  LOGG3\n",
              "149       150   HAPV3  GFSA3\n",
              "\n",
              "[150 rows x 3 columns]"
            ]
          },
          "metadata": {
            "tags": []
          },
          "execution_count": 10
        }
      ]
    },
    {
      "cell_type": "markdown",
      "metadata": {
        "id": "eeX9Ccz5aIwr",
        "colab_type": "text"
      },
      "source": [
        "Cálculo utilizando o rankeamento pela Fórmula Mágica: Buscar o papel, pegando a posição que ele tem no EV/EBIT e somando a posição que ele tem no ROIC. Quanto menor, melhor"
      ]
    },
    {
      "cell_type": "code",
      "metadata": {
        "id": "agIOJRtJaAjY",
        "colab_type": "code",
        "colab": {}
      },
      "source": [
        "auxA = ranking.pivot_table(columns='EV/EBIT', values='Position')\n",
        "auxB = ranking.pivot_table(columns='ROIC', values='Position')\n",
        "t = pd.concat([auxA, auxB])"
      ],
      "execution_count": 11,
      "outputs": []
    },
    {
      "cell_type": "code",
      "metadata": {
        "id": "JA3ps7uaa-Mb",
        "colab_type": "code",
        "colab": {
          "base_uri": "https://localhost:8080/",
          "height": 160
        },
        "outputId": "b9f5db09-1684-4386-b410-4139284b34c3"
      },
      "source": [
        "t"
      ],
      "execution_count": 12,
      "outputs": [
        {
          "output_type": "execute_result",
          "data": {
            "text/html": [
              "<div>\n",
              "<style scoped>\n",
              "    .dataframe tbody tr th:only-of-type {\n",
              "        vertical-align: middle;\n",
              "    }\n",
              "\n",
              "    .dataframe tbody tr th {\n",
              "        vertical-align: top;\n",
              "    }\n",
              "\n",
              "    .dataframe thead th {\n",
              "        text-align: right;\n",
              "    }\n",
              "</style>\n",
              "<table border=\"1\" class=\"dataframe\">\n",
              "  <thead>\n",
              "    <tr style=\"text-align: right;\">\n",
              "      <th></th>\n",
              "      <th>AALR3</th>\n",
              "      <th>ABEV3</th>\n",
              "      <th>AGRO3</th>\n",
              "      <th>ALPA4</th>\n",
              "      <th>ALSO3</th>\n",
              "      <th>ALUP11</th>\n",
              "      <th>AMAR3</th>\n",
              "      <th>ANIM3</th>\n",
              "      <th>ARZZ3</th>\n",
              "      <th>B3SA3</th>\n",
              "      <th>BEEF3</th>\n",
              "      <th>BRDT3</th>\n",
              "      <th>BRFS3</th>\n",
              "      <th>BRKM5</th>\n",
              "      <th>BRML3</th>\n",
              "      <th>BRPR3</th>\n",
              "      <th>CAMB3</th>\n",
              "      <th>CAML3</th>\n",
              "      <th>CARD3</th>\n",
              "      <th>CCPR3</th>\n",
              "      <th>CCRO3</th>\n",
              "      <th>CEAB3</th>\n",
              "      <th>CESP6</th>\n",
              "      <th>CIEL3</th>\n",
              "      <th>CLSC4</th>\n",
              "      <th>CMIG3</th>\n",
              "      <th>CMIG4</th>\n",
              "      <th>COCE5</th>\n",
              "      <th>COGN3</th>\n",
              "      <th>CPFE3</th>\n",
              "      <th>CPLE3</th>\n",
              "      <th>CPLE6</th>\n",
              "      <th>CRFB3</th>\n",
              "      <th>CSAN3</th>\n",
              "      <th>CSMG3</th>\n",
              "      <th>CSNA3</th>\n",
              "      <th>CVCB3</th>\n",
              "      <th>CYRE3</th>\n",
              "      <th>DIRR3</th>\n",
              "      <th>DTEX3</th>\n",
              "      <th>...</th>\n",
              "      <th>SAPR4</th>\n",
              "      <th>SBSP3</th>\n",
              "      <th>SEER3</th>\n",
              "      <th>SGPS3</th>\n",
              "      <th>SHUL4</th>\n",
              "      <th>SLCE3</th>\n",
              "      <th>SMLS3</th>\n",
              "      <th>SMTO3</th>\n",
              "      <th>SULA11</th>\n",
              "      <th>SUZB3</th>\n",
              "      <th>TASA4</th>\n",
              "      <th>TEND3</th>\n",
              "      <th>TESA3</th>\n",
              "      <th>TGMA3</th>\n",
              "      <th>TIET11</th>\n",
              "      <th>TIET4</th>\n",
              "      <th>TIMP3</th>\n",
              "      <th>TOTS3</th>\n",
              "      <th>TRIS3</th>\n",
              "      <th>TRPL4</th>\n",
              "      <th>TUPY3</th>\n",
              "      <th>UGPA3</th>\n",
              "      <th>UNIP6</th>\n",
              "      <th>USIM3</th>\n",
              "      <th>USIM5</th>\n",
              "      <th>VALE3</th>\n",
              "      <th>VIVT3</th>\n",
              "      <th>VIVT4</th>\n",
              "      <th>VLID3</th>\n",
              "      <th>VULC3</th>\n",
              "      <th>VVAR3</th>\n",
              "      <th>WIZS3</th>\n",
              "      <th>WSON33</th>\n",
              "      <th>YDUQ3</th>\n",
              "      <th>EZTC3</th>\n",
              "      <th>LWSA3</th>\n",
              "      <th>MGLU3</th>\n",
              "      <th>PNVL3</th>\n",
              "      <th>PRNR3</th>\n",
              "      <th>WEGE3</th>\n",
              "    </tr>\n",
              "  </thead>\n",
              "  <tbody>\n",
              "    <tr>\n",
              "      <th>Position</th>\n",
              "      <td>114.0</td>\n",
              "      <td>84.0</td>\n",
              "      <td>68.0</td>\n",
              "      <td>139.0</td>\n",
              "      <td>82.0</td>\n",
              "      <td>6.0</td>\n",
              "      <td>50.0</td>\n",
              "      <td>123.0</td>\n",
              "      <td>140.0</td>\n",
              "      <td>138.0</td>\n",
              "      <td>28.0</td>\n",
              "      <td>109.0</td>\n",
              "      <td>44.0</td>\n",
              "      <td>132.0</td>\n",
              "      <td>69.0</td>\n",
              "      <td>121.0</td>\n",
              "      <td>52.0</td>\n",
              "      <td>144.0</td>\n",
              "      <td>72.0</td>\n",
              "      <td>78.0</td>\n",
              "      <td>67.0</td>\n",
              "      <td>83.0</td>\n",
              "      <td>103.0</td>\n",
              "      <td>31.0</td>\n",
              "      <td>30.0</td>\n",
              "      <td>14.0</td>\n",
              "      <td>12.0</td>\n",
              "      <td>56.0</td>\n",
              "      <td>142.0</td>\n",
              "      <td>48.0</td>\n",
              "      <td>17.0</td>\n",
              "      <td>21.0</td>\n",
              "      <td>61.0</td>\n",
              "      <td>125.0</td>\n",
              "      <td>26.0</td>\n",
              "      <td>43.0</td>\n",
              "      <td>13.0</td>\n",
              "      <td>133.0</td>\n",
              "      <td>75.0</td>\n",
              "      <td>135.0</td>\n",
              "      <td>...</td>\n",
              "      <td>10.0</td>\n",
              "      <td>38.0</td>\n",
              "      <td>37.0</td>\n",
              "      <td>105.0</td>\n",
              "      <td>90.0</td>\n",
              "      <td>46.0</td>\n",
              "      <td>3.0</td>\n",
              "      <td>87.0</td>\n",
              "      <td>8.0</td>\n",
              "      <td>143.0</td>\n",
              "      <td>99.0</td>\n",
              "      <td>47.0</td>\n",
              "      <td>80.0</td>\n",
              "      <td>42.0</td>\n",
              "      <td>65.0</td>\n",
              "      <td>63.0</td>\n",
              "      <td>57.0</td>\n",
              "      <td>89.0</td>\n",
              "      <td>97.0</td>\n",
              "      <td>24.0</td>\n",
              "      <td>29.0</td>\n",
              "      <td>110.0</td>\n",
              "      <td>33.0</td>\n",
              "      <td>62.0</td>\n",
              "      <td>58.0</td>\n",
              "      <td>7.0</td>\n",
              "      <td>73.0</td>\n",
              "      <td>74.0</td>\n",
              "      <td>35.0</td>\n",
              "      <td>55.0</td>\n",
              "      <td>141.0</td>\n",
              "      <td>4.0</td>\n",
              "      <td>27.0</td>\n",
              "      <td>81.0</td>\n",
              "      <td>NaN</td>\n",
              "      <td>NaN</td>\n",
              "      <td>NaN</td>\n",
              "      <td>NaN</td>\n",
              "      <td>NaN</td>\n",
              "      <td>NaN</td>\n",
              "    </tr>\n",
              "    <tr>\n",
              "      <th>Position</th>\n",
              "      <td>141.0</td>\n",
              "      <td>15.0</td>\n",
              "      <td>84.0</td>\n",
              "      <td>20.0</td>\n",
              "      <td>131.0</td>\n",
              "      <td>29.0</td>\n",
              "      <td>52.0</td>\n",
              "      <td>116.0</td>\n",
              "      <td>30.0</td>\n",
              "      <td>34.0</td>\n",
              "      <td>9.0</td>\n",
              "      <td>98.0</td>\n",
              "      <td>70.0</td>\n",
              "      <td>148.0</td>\n",
              "      <td>127.0</td>\n",
              "      <td>NaN</td>\n",
              "      <td>57.0</td>\n",
              "      <td>147.0</td>\n",
              "      <td>46.0</td>\n",
              "      <td>115.0</td>\n",
              "      <td>42.0</td>\n",
              "      <td>105.0</td>\n",
              "      <td>136.0</td>\n",
              "      <td>35.0</td>\n",
              "      <td>124.0</td>\n",
              "      <td>66.0</td>\n",
              "      <td>67.0</td>\n",
              "      <td>96.0</td>\n",
              "      <td>NaN</td>\n",
              "      <td>37.0</td>\n",
              "      <td>62.0</td>\n",
              "      <td>63.0</td>\n",
              "      <td>50.0</td>\n",
              "      <td>114.0</td>\n",
              "      <td>41.0</td>\n",
              "      <td>56.0</td>\n",
              "      <td>40.0</td>\n",
              "      <td>130.0</td>\n",
              "      <td>122.0</td>\n",
              "      <td>126.0</td>\n",
              "      <td>...</td>\n",
              "      <td>13.0</td>\n",
              "      <td>36.0</td>\n",
              "      <td>72.0</td>\n",
              "      <td>NaN</td>\n",
              "      <td>90.0</td>\n",
              "      <td>73.0</td>\n",
              "      <td>5.0</td>\n",
              "      <td>88.0</td>\n",
              "      <td>102.0</td>\n",
              "      <td>145.0</td>\n",
              "      <td>87.0</td>\n",
              "      <td>25.0</td>\n",
              "      <td>139.0</td>\n",
              "      <td>8.0</td>\n",
              "      <td>23.0</td>\n",
              "      <td>24.0</td>\n",
              "      <td>78.0</td>\n",
              "      <td>3.0</td>\n",
              "      <td>53.0</td>\n",
              "      <td>51.0</td>\n",
              "      <td>60.0</td>\n",
              "      <td>106.0</td>\n",
              "      <td>77.0</td>\n",
              "      <td>128.0</td>\n",
              "      <td>129.0</td>\n",
              "      <td>18.0</td>\n",
              "      <td>103.0</td>\n",
              "      <td>104.0</td>\n",
              "      <td>95.0</td>\n",
              "      <td>65.0</td>\n",
              "      <td>110.0</td>\n",
              "      <td>1.0</td>\n",
              "      <td>28.0</td>\n",
              "      <td>17.0</td>\n",
              "      <td>117.0</td>\n",
              "      <td>99.0</td>\n",
              "      <td>107.0</td>\n",
              "      <td>68.0</td>\n",
              "      <td>140.0</td>\n",
              "      <td>11.0</td>\n",
              "    </tr>\n",
              "  </tbody>\n",
              "</table>\n",
              "<p>2 rows × 155 columns</p>\n",
              "</div>"
            ],
            "text/plain": [
              "          AALR3  ABEV3  AGRO3  ALPA4  ALSO3  ...  LWSA3  MGLU3  PNVL3  PRNR3  WEGE3\n",
              "Position  114.0   84.0   68.0  139.0   82.0  ...    NaN    NaN    NaN    NaN    NaN\n",
              "Position  141.0   15.0   84.0   20.0  131.0  ...   99.0  107.0   68.0  140.0   11.0\n",
              "\n",
              "[2 rows x 155 columns]"
            ]
          },
          "metadata": {
            "tags": []
          },
          "execution_count": 12
        }
      ]
    },
    {
      "cell_type": "code",
      "metadata": {
        "id": "XF2ZcqoIa_BK",
        "colab_type": "code",
        "colab": {
          "base_uri": "https://localhost:8080/",
          "height": 544
        },
        "outputId": "2e487807-942c-489b-ad30-24b708ee05be"
      },
      "source": [
        "rank = t.dropna(axis=1).sum().sort_values()\n",
        "rank[:30]"
      ],
      "execution_count": 13,
      "outputs": [
        {
          "output_type": "execute_result",
          "data": {
            "text/plain": [
              "PSSA3      3.0\n",
              "WIZS3      5.0\n",
              "SMLS3      8.0\n",
              "SAPR11    21.0\n",
              "SAPR4     23.0\n",
              "SAPR3     25.0\n",
              "VALE3     25.0\n",
              "LEVE3     32.0\n",
              "EQTL3     34.0\n",
              "ALUP11    35.0\n",
              "MRFG3     36.0\n",
              "BEEF3     37.0\n",
              "TGMA3     50.0\n",
              "CVCB3     53.0\n",
              "ENAT3     54.0\n",
              "WSON33    55.0\n",
              "PETR4     60.0\n",
              "PETR3     64.0\n",
              "CIEL3     66.0\n",
              "QUAL3     66.0\n",
              "CSMG3     67.0\n",
              "RAPT4     69.0\n",
              "TEND3     72.0\n",
              "SBSP3     74.0\n",
              "JBSS3     75.0\n",
              "TRPL4     75.0\n",
              "CMIG4     79.0\n",
              "CPLE3     79.0\n",
              "ENBR3     79.0\n",
              "CMIG3     80.0\n",
              "dtype: float64"
            ]
          },
          "metadata": {
            "tags": []
          },
          "execution_count": 13
        }
      ]
    },
    {
      "cell_type": "code",
      "metadata": {
        "id": "0uKrKU5jFOsp",
        "colab_type": "code",
        "colab": {}
      },
      "source": [
        "# Cotação, P/L, EBITDA, Div.Yield, ROE, EV/EBIT\n",
        "# Comparar papéis do mesmo setor\n",
        "lista = df.loc[:, ['Papel', 'Cotação', 'P/L', 'Div.Yield', 'ROE', 'EV/EBIT']]"
      ],
      "execution_count": 14,
      "outputs": []
    },
    {
      "cell_type": "code",
      "metadata": {
        "id": "cKer3MtZKOJc",
        "colab_type": "code",
        "colab": {}
      },
      "source": [
        "# lista"
      ],
      "execution_count": 15,
      "outputs": []
    },
    {
      "cell_type": "code",
      "metadata": {
        "id": "fjJVMtKKhf2p",
        "colab_type": "code",
        "colab": {}
      },
      "source": [
        "from concurrent.futures import ThreadPoolExecutor, as_completed"
      ],
      "execution_count": 16,
      "outputs": []
    },
    {
      "cell_type": "code",
      "metadata": {
        "id": "Dr1PNJwChidz",
        "colab_type": "code",
        "colab": {}
      },
      "source": [
        "def get(url, timeout):\n",
        "    return requests.get(url, headers=header, timeout = timeout)"
      ],
      "execution_count": 17,
      "outputs": []
    },
    {
      "cell_type": "code",
      "metadata": {
        "id": "UYIvhEkWhnqo",
        "colab_type": "code",
        "colab": {}
      },
      "source": [
        "def requestUrls(urls, timeout = 5):\n",
        "    with ThreadPoolExecutor(max_workers = 5) as executor:\n",
        "        agenda = { executor.submit(get, url, timeout): url for url in urls }\n",
        "\n",
        "        for tarefa in as_completed(agenda):     \n",
        "            try:\n",
        "                conteudo = tarefa.result()\n",
        "            except Exception as e:\n",
        "                print (\"Não foi possível fazer a requisição! \\n{}\".format(e))\n",
        "            else:\n",
        "                yield conteudo"
      ],
      "execution_count": 18,
      "outputs": []
    },
    {
      "cell_type": "code",
      "metadata": {
        "id": "RHYu9JMyhuOt",
        "colab_type": "code",
        "colab": {}
      },
      "source": [
        "urls = 'https://www.fundamentus.com.br/detalhes.php?papel=' + lista['Papel'].values\n",
        "# urls = 'https://www.fundamentus.com.br/detalhes.php?papel=' + df['Papel'].values\n",
        "# urls = 'https://www.fundamentus.com.br/detalhes.php?papel=' + dflist['Papel'].values"
      ],
      "execution_count": 19,
      "outputs": []
    },
    {
      "cell_type": "code",
      "metadata": {
        "id": "O9NDD1l2Z5XV",
        "colab_type": "code",
        "colab": {}
      },
      "source": [
        "# dflist['Papel'].values"
      ],
      "execution_count": 20,
      "outputs": []
    },
    {
      "cell_type": "code",
      "metadata": {
        "id": "VtbdJg2Ah2Ay",
        "colab_type": "code",
        "colab": {}
      },
      "source": [
        "requisicoes = requestUrls(urls, timeout=7)"
      ],
      "execution_count": 21,
      "outputs": []
    },
    {
      "cell_type": "code",
      "metadata": {
        "id": "WXZ2WwBjM7JY",
        "colab_type": "code",
        "colab": {}
      },
      "source": [
        "lista_empresas = []"
      ],
      "execution_count": 22,
      "outputs": []
    },
    {
      "cell_type": "code",
      "metadata": {
        "id": "K4CZnyguiEKj",
        "colab_type": "code",
        "colab": {}
      },
      "source": [
        "for requisicao in requisicoes:\n",
        "    codigo = requisicao.status_code\n",
        "    url = requisicao.url\n",
        "    conteudo = requisicao.content\n",
        "    lista_empresas += [conteudo]\n",
        "    # print (\"{}: {}\".format(codigo, url))"
      ],
      "execution_count": 23,
      "outputs": []
    },
    {
      "cell_type": "code",
      "metadata": {
        "id": "El1-s34w7QfE",
        "colab_type": "code",
        "colab": {}
      },
      "source": [
        "# type(lista_empresas)"
      ],
      "execution_count": 24,
      "outputs": []
    },
    {
      "cell_type": "code",
      "metadata": {
        "id": "hFDI0SXv9J84",
        "colab_type": "code",
        "colab": {}
      },
      "source": [
        "# lista_empresas"
      ],
      "execution_count": 25,
      "outputs": []
    },
    {
      "cell_type": "code",
      "metadata": {
        "id": "k9kQtUPUkRFQ",
        "colab_type": "code",
        "colab": {}
      },
      "source": [
        "# conteudo = pd.read_html(lista_empresas[0])"
      ],
      "execution_count": 26,
      "outputs": []
    },
    {
      "cell_type": "code",
      "metadata": {
        "id": "TSKsKPnNVsOL",
        "colab_type": "code",
        "colab": {}
      },
      "source": [
        "html_data = []"
      ],
      "execution_count": 27,
      "outputs": []
    },
    {
      "cell_type": "code",
      "metadata": {
        "id": "sEAnYEP6Wxhh",
        "colab_type": "code",
        "colab": {}
      },
      "source": [
        "# Papel que quer pesquisar\n",
        "papel = ['WEGE3', 'USIM5']"
      ],
      "execution_count": 28,
      "outputs": []
    },
    {
      "cell_type": "code",
      "metadata": {
        "id": "a6hT2nGZwKF-",
        "colab_type": "code",
        "colab": {}
      },
      "source": [
        "from bs4 import BeautifulSoup"
      ],
      "execution_count": 29,
      "outputs": []
    },
    {
      "cell_type": "code",
      "metadata": {
        "id": "HfA5lYg6wAl_",
        "colab_type": "code",
        "colab": {}
      },
      "source": [
        "def readHTML(content):\n",
        "  soup = BeautifulSoup(content, 'html.parser')\n",
        "  for tr in soup.find_all('tr'):\n",
        "    tds = soup.find_all('td')\n",
        "    papel_html = tds[1].text\n",
        "    cotacao_html = tds[3].text\n",
        "    empresa_html = tds[9].text\n",
        "    setor_html = tds[13].text\n",
        "    subsetor_html = tds[17].html\n",
        "    valor_firma_html = tds[25].text\n",
        "    ev_ebitda_html = tds[81].text\n",
        "    # print(' \\\n",
        "    #   Papel: {}, \\\n",
        "    #   Cotação: {}, \\\n",
        "    #   Empresa: {}, \\\n",
        "    #   Setor: {}, \\\n",
        "    #   Subsetor: {}, \\\n",
        "    #   Valor da firma: {}, \\\n",
        "    #   EV/EBITDA: {}'.format(papel_html, cotacao_html, empresa_html, setor_html, subsetor_html, valor_firma_html, ev_ebitda_html))\n",
        "    mid_string = (' \\\n",
        "      Papel: {}, \\\n",
        "      Cotação: {}, \\\n",
        "      Empresa: {}, \\\n",
        "      Setor: {}, \\\n",
        "      Subsetor: {}, \\\n",
        "      Valor da firma: {}, \\\n",
        "      EV/EBITDA: {}'.format(papel_html, cotacao_html, empresa_html, setor_html, subsetor_html, valor_firma_html, ev_ebitda_html))\n",
        "    complete_string = '{' + mid_string + '}'\n",
        "    print(complete_string)\n",
        "    break"
      ],
      "execution_count": 30,
      "outputs": []
    },
    {
      "cell_type": "code",
      "metadata": {
        "id": "y6Ou47WEQAmT",
        "colab_type": "code",
        "colab": {
          "base_uri": "https://localhost:8080/",
          "height": 105
        },
        "outputId": "68897c56-24bd-4c51-e81f-8c0b5129e650"
      },
      "source": [
        "for i in range(len(lista_empresas)):\n",
        "  ticket = pd.read_html(lista_empresas[i], thousands='.', decimal=',')[0][1][0]\n",
        "  for j in range(len(papel)):\n",
        "    if ticket == papel[j]:\n",
        "      conteudo = lista_empresas[i]\n",
        "      html_data = [conteudo]\n",
        "      readHTML(conteudo)\n",
        "      # print ('{}'.format(conteudo))"
      ],
      "execution_count": 31,
      "outputs": [
        {
          "output_type": "stream",
          "text": [
            "{       Papel: USIM5,       Cotação: 7,52,       Empresa: USIMINAS PNA N1,       Setor: Siderurgia e Metalurgia,       Subsetor: None,       Valor da firma: 12.975.900.000,       EV/EBITDA: \n",
            "          6,08}\n",
            "{       Papel: WEGE3,       Cotação: 53,99,       Empresa: WEG SA ON N1,       Setor: Máquinas e Equipamentos,       Subsetor: None,       Valor da firma: 112.871.000.000,       EV/EBITDA: \n",
            "          41,52}\n"
          ],
          "name": "stdout"
        }
      ]
    }
  ]
}