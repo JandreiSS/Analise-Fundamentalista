{
  "cells": [
    {
      "cell_type": "markdown",
      "metadata": {
        "id": "view-in-github",
        "colab_type": "text"
      },
      "source": [
        "<a href=\"https://colab.research.google.com/github/JandreiSS/Analise-Fundamentalista/blob/master/DataFrame_bolsa.ipynb\" target=\"_parent\"><img src=\"https://colab.research.google.com/assets/colab-badge.svg\" alt=\"Open In Colab\"/></a>"
      ]
    },
    {
      "cell_type": "code",
      "metadata": {
        "id": "TeEGbhyLwjIH",
        "colab_type": "code",
        "colab": {}
      },
      "source": [
        "import numpy as np\n",
        "import pandas as pd\n",
        "import seaborn as sns\n",
        "import string\n",
        "import requests\n",
        "import warnings\n",
        "warnings.filterwarnings('ignore')\n",
        "from concurrent.futures import ThreadPoolExecutor, as_completed\n",
        "from tqdm import tqdm"
      ],
      "execution_count": 1,
      "outputs": []
    },
    {
      "cell_type": "code",
      "metadata": {
        "id": "s6kZlv0fwjIO",
        "colab_type": "code",
        "colab": {}
      },
      "source": [
        "header = {\n",
        "  \"User-Agent\": \"Mozilla/5.0 (X11; Linux x86_64) AppleWebKit/537.36 (KHTML, like Gecko) Chrome/50.0.2661.75 Safari/537.36\",\n",
        "  \"X-Requested-With\": \"XMLHttpRequest\"\n",
        "}"
      ],
      "execution_count": 2,
      "outputs": []
    },
    {
      "cell_type": "code",
      "metadata": {
        "id": "NwXILNzVxOZG",
        "colab_type": "code",
        "colab": {}
      },
      "source": [
        "url = 'http://fundamentus.com.br/resultado.php'"
      ],
      "execution_count": 3,
      "outputs": []
    },
    {
      "cell_type": "code",
      "metadata": {
        "id": "ytMA8aNswjIT",
        "colab_type": "code",
        "colab": {}
      },
      "source": [
        "r = requests.get(url, headers=header)"
      ],
      "execution_count": 4,
      "outputs": []
    },
    {
      "cell_type": "code",
      "metadata": {
        "id": "NlOcnB2FwjIY",
        "colab_type": "code",
        "colab": {}
      },
      "source": [
        "df = pd.read_html(r.text, thousands='.', decimal=',')[0]"
      ],
      "execution_count": 5,
      "outputs": []
    },
    {
      "cell_type": "code",
      "execution_count": 6,
      "metadata": {},
      "outputs": [],
      "source": [
        "for coluna in ['Div.Yield', 'Mrg Ebit', 'Mrg. Líq.', 'ROIC', 'ROE', 'Cresc. Rec.5a']:\n",
        "  df[coluna] = df[coluna].str.replace('.', '')\n",
        "  df[coluna] = df[coluna].str.replace(',', '.')\n",
        "  df[coluna] = df[coluna].str.rstrip('%').astype('float') / 100"
      ]
    },
    {
      "cell_type": "code",
      "execution_count": 7,
      "metadata": {},
      "outputs": [],
      "source": [
        "df = df[df['Liq.2meses'] > 1000000]"
      ]
    },
    {
      "cell_type": "code",
      "execution_count": 8,
      "metadata": {},
      "outputs": [],
      "source": [
        "ranking = pd.DataFrame()\n",
        "ranking['Position'] = range(1,151)\n",
        "ranking['EV/EBIT'] = df[df['EV/EBIT'] > 0].sort_values(by=['EV/EBIT'])['Papel'][:150].values\n",
        "ranking['ROIC'] = df.sort_values(by=['ROIC'], ascending=False)['Papel'][:150].values"
      ]
    },
    {
      "cell_type": "code",
      "execution_count": 9,
      "metadata": {},
      "outputs": [],
      "source": [
        "auxA = ranking.pivot_table(columns='EV/EBIT', values='Position')\n",
        "auxB = ranking.pivot_table(columns='ROIC', values='Position')\n",
        "t = pd.concat([auxA, auxB])"
      ]
    },
    {
      "cell_type": "code",
      "execution_count": 29,
      "metadata": {},
      "outputs": [],
      "source": [
        "rank = t.dropna(axis=1).sum().astype(int).sort_values()"
      ]
    },
    {
      "cell_type": "code",
      "execution_count": 12,
      "metadata": {},
      "outputs": [],
      "source": [
        "rank.to_csv('ranking.csv', index=True, sep=';')"
      ]
    },
    {
      "cell_type": "code",
      "metadata": {
        "id": "l6GWpFtewjIc",
        "colab_type": "code",
        "colab": {}
      },
      "source": [
        "df = df.loc[:,['Papel']]"
      ],
      "execution_count": 13,
      "outputs": []
    },
    {
      "cell_type": "code",
      "metadata": {
        "id": "D8PwDKUMwjIg",
        "colab_type": "code",
        "colab": {}
      },
      "source": [
        "def get(url, timeout):\n",
        "    return requests.get(url, headers=header, timeout = timeout)"
      ],
      "execution_count": 14,
      "outputs": []
    },
    {
      "cell_type": "code",
      "metadata": {
        "id": "q7dUyHQawjIj",
        "colab_type": "code",
        "colab": {}
      },
      "source": [
        "def requestUrls(urls, timeout = 5):\n",
        "    with ThreadPoolExecutor(max_workers = 3) as executor:\n",
        "        agenda = { executor.submit(get, url, timeout): url for url in urls }\n",
        "\n",
        "        for tarefa in as_completed(agenda):     \n",
        "            try:\n",
        "                conteudo = tarefa.result()\n",
        "            except Exception as e:\n",
        "                print (\"\\nNão foi possível fazer a requisição! \\n{}\".format(e))\n",
        "            else:\n",
        "                yield conteudo"
      ],
      "execution_count": 15,
      "outputs": []
    },
    {
      "cell_type": "code",
      "metadata": {
        "id": "jjkiAuyrwjIo",
        "colab_type": "code",
        "colab": {}
      },
      "source": [
        "urls = 'https://www.fundamentus.com.br/detalhes.php?papel=' + df['Papel'].values"
      ],
      "execution_count": 16,
      "outputs": []
    },
    {
      "cell_type": "code",
      "metadata": {
        "id": "R3fwFHu5wjIs",
        "colab_type": "code",
        "colab": {}
      },
      "source": [
        "requisicoes = requestUrls(urls, timeout=60)"
      ],
      "execution_count": 17,
      "outputs": []
    },
    {
      "cell_type": "code",
      "metadata": {
        "id": "_HygN902wjIw",
        "colab_type": "code",
        "colab": {}
      },
      "source": [
        "lista_empresas = []"
      ],
      "execution_count": 18,
      "outputs": []
    },
    {
      "cell_type": "code",
      "execution_count": 19,
      "metadata": {},
      "outputs": [],
      "source": [
        "total_ticket = len(df)"
      ]
    },
    {
      "cell_type": "code",
      "metadata": {
        "id": "_H1KXIuVwjIz",
        "colab_type": "code",
        "colab": {
          "base_uri": "https://localhost:8080/",
          "height": 1000
        },
        "outputId": "6fd38fb8-9925-47c6-c67e-e451870b54b9",
        "tags": []
      },
      "source": [
        "for requisicao in tqdm(requisicoes, unit=' requisições', desc='Requisitando dados: ', disable=False, total=total_ticket, ncols=100):\n",
        "    # codigo = requisicao.status_code\n",
        "    # url = requisicao.url\n",
        "    conteudo = requisicao.content\n",
        "    lista_empresas += [conteudo]\n",
        "    # print (f'{codigo}: {url}')"
      ],
      "execution_count": 20,
      "outputs": [
        {
          "output_type": "stream",
          "name": "stderr",
          "text": "Requisitando dados: 100%|███████████████████████████████| 212/212 [01:45<00:00,  2.02 requisições/s]\n"
        }
      ]
    },
    {
      "cell_type": "markdown",
      "metadata": {},
      "source": [
        "### Transformar os dados do HTML para um DataFrame"
      ]
    },
    {
      "cell_type": "code",
      "execution_count": 21,
      "metadata": {},
      "outputs": [],
      "source": [
        "colunas = [\n",
        "    'Papel',\n",
        "    'Empresa',\n",
        "    'Setor',\n",
        "    'Subsetor',\n",
        "    'Cotação',\n",
        "    'Valor da Firma',\n",
        "    'Valor de Mercado',\n",
        "    'Número de Ações',\n",
        "    'P/L',\n",
        "    'Div. Yield',\n",
        "    'EV/EBITDA',\n",
        "    'EV/EBIT',\n",
        "    'ROE',\n",
        "    'ROIC'\n",
        "]"
      ]
    },
    {
      "cell_type": "code",
      "execution_count": 22,
      "metadata": {},
      "outputs": [],
      "source": [
        "tabela_base = pd.DataFrame(columns=colunas)"
      ]
    },
    {
      "cell_type": "code",
      "execution_count": 23,
      "metadata": {},
      "outputs": [],
      "source": [
        "total_lista = len(lista_empresas)"
      ]
    },
    {
      "cell_type": "code",
      "execution_count": 24,
      "metadata": {
        "tags": []
      },
      "outputs": [
        {
          "output_type": "stream",
          "name": "stderr",
          "text": "Tratando dados: 100%|█████████████████████████████████████████| 212/212 [00:11<00:00, 19.09 dados/s]\n"
        }
      ],
      "source": [
        "for key in tqdm(range(total_lista), unit=' dados', desc='Tratando dados: ', disable=False, total=total_lista, ncols=100):\n",
        "    dados_base = pd.read_html(lista_empresas[key])\n",
        "    papel = dados_base[0][1][0]\n",
        "    empresa = dados_base[0][1][2]\n",
        "    setor = dados_base[0][1][3]\n",
        "    subsetor = dados_base[0][1][4]\n",
        "    cotacao = dados_base[0][3][0]\n",
        "    valor_da_firma = dados_base[1][1][1]\n",
        "    valor_de_mercado = dados_base[1][1][0]\n",
        "    n_acoes = dados_base[1][3][1]\n",
        "    p_l = dados_base[2][3][1]\n",
        "    div_yield = dados_base[2][3][8]\n",
        "    ev_ebitda = dados_base[2][3][9]\n",
        "    ev_ebit = dados_base[2][3][10]\n",
        "    roe = dados_base[2][5][8]\n",
        "    roic = dados_base[2][5][7]\n",
        "    to_append = [papel, empresa, setor, subsetor, cotacao, valor_da_firma, valor_de_mercado, n_acoes, p_l, div_yield, ev_ebitda, ev_ebit, roe, roic]\n",
        "    tabela_base_length = len(tabela_base)\n",
        "    tabela_base.loc[tabela_base_length] = to_append\n"
      ]
    },
    {
      "cell_type": "code",
      "execution_count": 25,
      "metadata": {},
      "outputs": [],
      "source": [
        "for coluna in ['ROE', 'Div. Yield', 'ROIC']:\n",
        "    tabela_base[coluna] = tabela_base[coluna].str.rstrip('%')"
      ]
    },
    {
      "cell_type": "code",
      "execution_count": 27,
      "metadata": {},
      "outputs": [],
      "source": [
        "tabela_base.to_csv('tabela_dados.csv', index=False, sep=';')"
      ]
    }
  ],
  "metadata": {
    "language_info": {
      "codemirror_mode": {
        "name": "ipython",
        "version": 3
      },
      "file_extension": ".py",
      "mimetype": "text/x-python",
      "name": "python",
      "nbconvert_exporter": "python",
      "pygments_lexer": "ipython3",
      "version": "3.7.6-final"
    },
    "orig_nbformat": 2,
    "kernelspec": {
      "name": "python_defaultSpec_1595252413578",
      "display_name": "Python 3.7.6 64-bit ('base': conda)"
    },
    "colab": {
      "name": "DataFrame_bolsa.ipynb",
      "provenance": [],
      "collapsed_sections": [],
      "include_colab_link": true
    }
  },
  "nbformat": 4,
  "nbformat_minor": 0
}