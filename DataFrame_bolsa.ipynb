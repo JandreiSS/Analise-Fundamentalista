{
  "cells": [
    {
      "cell_type": "markdown",
      "metadata": {
        "id": "view-in-github",
        "colab_type": "text"
      },
      "source": [
        "<a href=\"https://colab.research.google.com/github/JandreiSS/Analise-Fundamentalista/blob/master/DataFrame_bolsa.ipynb\" target=\"_parent\"><img src=\"https://colab.research.google.com/assets/colab-badge.svg\" alt=\"Open In Colab\"/></a>"
      ]
    },
    {
      "cell_type": "code",
      "metadata": {
        "id": "TeEGbhyLwjIH",
        "colab_type": "code",
        "colab": {}
      },
      "source": [
        "import numpy as np\n",
        "import pandas as pd\n",
        "import seaborn as sns\n",
        "import string\n",
        "import requests\n",
        "import warnings\n",
        "warnings.filterwarnings('ignore')\n",
        "from concurrent.futures import ThreadPoolExecutor, as_completed\n",
        "from tqdm import tqdm"
      ],
      "execution_count": 1,
      "outputs": []
    },
    {
      "cell_type": "code",
      "metadata": {
        "id": "s6kZlv0fwjIO",
        "colab_type": "code",
        "colab": {}
      },
      "source": [
        "header = {\n",
        "  \"User-Agent\": \"Mozilla/5.0 (X11; Linux x86_64) AppleWebKit/537.36 (KHTML, like Gecko) Chrome/50.0.2661.75 Safari/537.36\",\n",
        "  \"X-Requested-With\": \"XMLHttpRequest\"\n",
        "}"
      ],
      "execution_count": 2,
      "outputs": []
    },
    {
      "cell_type": "code",
      "metadata": {
        "id": "NwXILNzVxOZG",
        "colab_type": "code",
        "colab": {}
      },
      "source": [
        "url = 'http://fundamentus.com.br/resultado.php'"
      ],
      "execution_count": 3,
      "outputs": []
    },
    {
      "cell_type": "code",
      "metadata": {
        "id": "ytMA8aNswjIT",
        "colab_type": "code",
        "colab": {}
      },
      "source": [
        "r = requests.get(url, headers=header)"
      ],
      "execution_count": 4,
      "outputs": []
    },
    {
      "cell_type": "code",
      "metadata": {
        "id": "NlOcnB2FwjIY",
        "colab_type": "code",
        "colab": {}
      },
      "source": [
        "df = pd.read_html(r.text)[0]"
      ],
      "execution_count": 5,
      "outputs": []
    },
    {
      "cell_type": "code",
      "metadata": {
        "id": "l6GWpFtewjIc",
        "colab_type": "code",
        "colab": {}
      },
      "source": [
        "df = df.loc[:,['Papel']]"
      ],
      "execution_count": 6,
      "outputs": []
    },
    {
      "cell_type": "code",
      "metadata": {
        "id": "D8PwDKUMwjIg",
        "colab_type": "code",
        "colab": {}
      },
      "source": [
        "def get(url, timeout):\n",
        "    return requests.get(url, headers=header, timeout = timeout)"
      ],
      "execution_count": 7,
      "outputs": []
    },
    {
      "cell_type": "code",
      "metadata": {
        "id": "q7dUyHQawjIj",
        "colab_type": "code",
        "colab": {}
      },
      "source": [
        "def requestUrls(urls, timeout = 5):\n",
        "    with ThreadPoolExecutor(max_workers = 3) as executor:\n",
        "        agenda = { executor.submit(get, url, timeout): url for url in urls }\n",
        "\n",
        "        for tarefa in as_completed(agenda):     \n",
        "            try:\n",
        "                conteudo = tarefa.result()\n",
        "            except Exception as e:\n",
        "                print (\"\\nNão foi possível fazer a requisição! \\n{}\".format(e))\n",
        "            else:\n",
        "                yield conteudo"
      ],
      "execution_count": 8,
      "outputs": []
    },
    {
      "cell_type": "code",
      "metadata": {
        "id": "jjkiAuyrwjIo",
        "colab_type": "code",
        "colab": {}
      },
      "source": [
        "urls = 'https://www.fundamentus.com.br/detalhes.php?papel=' + df['Papel'].values"
      ],
      "execution_count": 9,
      "outputs": []
    },
    {
      "cell_type": "code",
      "metadata": {
        "id": "R3fwFHu5wjIs",
        "colab_type": "code",
        "colab": {}
      },
      "source": [
        "requisicoes = requestUrls(urls, timeout=60)"
      ],
      "execution_count": 10,
      "outputs": []
    },
    {
      "cell_type": "code",
      "metadata": {
        "id": "_HygN902wjIw",
        "colab_type": "code",
        "colab": {}
      },
      "source": [
        "lista_empresas = []"
      ],
      "execution_count": 11,
      "outputs": []
    },
    {
      "cell_type": "code",
      "execution_count": 12,
      "metadata": {},
      "outputs": [],
      "source": [
        "total_ticket = len(df)"
      ]
    },
    {
      "cell_type": "code",
      "metadata": {
        "id": "_H1KXIuVwjIz",
        "colab_type": "code",
        "colab": {
          "base_uri": "https://localhost:8080/",
          "height": 1000
        },
        "outputId": "6fd38fb8-9925-47c6-c67e-e451870b54b9",
        "tags": []
      },
      "source": [
        "for requisicao in tqdm(requisicoes, unit=' requisições', desc='Requisitando dados: ', disable=False, total=total_ticket, ncols=100):\n",
        "    # codigo = requisicao.status_code\n",
        "    # url = requisicao.url\n",
        "    conteudo = requisicao.content\n",
        "    lista_empresas += [conteudo]\n",
        "    # print (f'{codigo}: {url}')"
      ],
      "execution_count": 13,
      "outputs": [
        {
          "output_type": "stream",
          "name": "stderr",
          "text": "Requisitando dados: 100%|███████████████████████████████| 887/887 [05:22<00:00,  2.75 requisições/s]\n"
        }
      ]
    },
    {
      "cell_type": "markdown",
      "metadata": {},
      "source": [
        "### Transformar os dados do HTML para um DataFrame"
      ]
    },
    {
      "cell_type": "code",
      "execution_count": 14,
      "metadata": {},
      "outputs": [],
      "source": [
        "colunas = [\n",
        "    'Papel',\n",
        "    'Empresa',\n",
        "    'Setor',\n",
        "    'Subsetor',\n",
        "    'Cotação',\n",
        "    'Valor da Firma',\n",
        "    'Valor de Mercado',\n",
        "    'Número de Ações',\n",
        "    'P/L',\n",
        "    'Div. Yield',\n",
        "    'EV/EBITDA',\n",
        "    'EV/EBIT',\n",
        "    'ROE'\n",
        "]"
      ]
    },
    {
      "cell_type": "code",
      "execution_count": 15,
      "metadata": {},
      "outputs": [],
      "source": [
        "tabela_base = pd.DataFrame(columns=colunas)"
      ]
    },
    {
      "cell_type": "code",
      "execution_count": 16,
      "metadata": {},
      "outputs": [],
      "source": [
        "total_lista = len(lista_empresas)"
      ]
    },
    {
      "cell_type": "code",
      "execution_count": 17,
      "metadata": {
        "tags": []
      },
      "outputs": [
        {
          "output_type": "stream",
          "name": "stderr",
          "text": "Tratando dados: 100%|█████████████████████████████████████████| 887/887 [00:54<00:00, 16.39 dados/s]\n"
        }
      ],
      "source": [
        "for key in tqdm(range(total_lista), unit=' dados', desc='Tratando dados: ', disable=False, total=total_lista, ncols=100):\n",
        "    dados_base = pd.read_html(lista_empresas[key])\n",
        "    papel = dados_base[0][1][0]\n",
        "    empresa = dados_base[0][1][2]\n",
        "    setor = dados_base[0][1][3]\n",
        "    subsetor = dados_base[0][1][4]\n",
        "    cotacao = dados_base[0][3][0]\n",
        "    valor_da_firma = dados_base[1][1][1]\n",
        "    valor_de_mercado = dados_base[1][1][0]\n",
        "    n_acoes = dados_base[1][3][1]\n",
        "    p_l = dados_base[2][3][1]\n",
        "    div_yield = dados_base[2][3][8]\n",
        "    ev_ebitda = dados_base[2][3][9]\n",
        "    ev_ebit = dados_base[2][3][10]\n",
        "    roe = dados_base[2][5][8]\n",
        "    to_append = [papel, empresa, setor, subsetor, cotacao, valor_da_firma, valor_de_mercado, n_acoes, p_l, div_yield, ev_ebitda, ev_ebit, roe]\n",
        "    tabela_base_length = len(tabela_base)\n",
        "    tabela_base.loc[tabela_base_length] = to_append\n"
      ]
    },
    {
      "cell_type": "markdown",
      "metadata": {},
      "source": [
        "### Tratando colunas com %"
      ]
    },
    {
      "cell_type": "code",
      "execution_count": 20,
      "metadata": {},
      "outputs": [],
      "source": [
        "for coluna in ['ROE', 'Div. Yield']:\n",
        "    tabela_base[coluna] = tabela_base[coluna].str.rstrip('%')"
      ]
    },
    {
      "cell_type": "code",
      "execution_count": 21,
      "metadata": {},
      "outputs": [
        {
          "output_type": "execute_result",
          "data": {
            "text/plain": "     Papel                              Empresa  \\\n0    CFLU4                         COCA COLA PN   \n1    CLAN3                           CLARION ON   \n2    VNET3                          CIELO ON NM   \n3    CLSC6                        CELESC PNB N2   \n4    CSTB4  COMPANHIA SIDERÚRGICA DE TUBARÃO PN   \n..     ...                                  ...   \n882  UBBR3                    UNIBANCO SA ON N1   \n883  CEPE3                             CELPE ON   \n884  CEPE5                            CELPE PNA   \n885  BRAP3                  BRADESPAR S/A ON N1   \n886  BRAP4                  BRADESPAR S/A PN N1   \n\n                             Setor                       Subsetor  Cotação  \\\n0                              NaN                            NaN  1.00000   \n1                        Alimentos              Grãos e Derivados      000   \n2    Serviços Financeiros Diversos  Serviços Financeiros Diversos      000   \n3                 Energia Elétrica               Energia Elétrica      000   \n4                              NaN                            NaN    14769   \n..                             ...                            ...      ...   \n882                    Financeiros                         Bancos     1800   \n883               Energia Elétrica               Energia Elétrica     2453   \n884               Energia Elétrica               Energia Elétrica     2700   \n885        Holdings Diversificadas        Holdings Diversificadas     3678   \n886        Holdings Diversificadas        Holdings Diversificadas     4079   \n\n     Valor da Firma Valor de Mercado Número de Ações      P/L Div. Yield  \\\n0                 -                0               0      000        0,0   \n1                 -                0     158.703.000      000        0,0   \n2                 -                0   2.716.820.000      000        0,0   \n3                 -                0      38.572.000      000        0,0   \n4                 -                0               0      000        0,0   \n..              ...              ...             ...      ...        ...   \n882               -   49.219.500.000   2.734.420.000  1.46661        0,0   \n883   6.818.230.000    1.830.230.000      74.612.000  1.89599        0,0   \n884   7.002.520.000    2.014.520.000      74.612.000  2.08690        0,0   \n885  12.826.500.000   12.800.700.000     348.034.000  2.26963        2,0   \n886  14.222.100.000   14.196.300.000     348.034.000  2.51708        2,0   \n\n    EV/EBITDA EV/EBIT   ROE  \n0           -       -  32,2  \n1           -       -  -1,0  \n2           -       -  13,0  \n3           -       -  22,9  \n4           -       -  20,1  \n..        ...     ...   ...  \n882         -       -   0,3  \n883     26996   32616   0,1  \n884     27726   33498   0,1  \n885    -73437  -73437   0,1  \n886    -81427  -81427   0,1  \n\n[887 rows x 13 columns]",
            "text/html": "<div>\n<style scoped>\n    .dataframe tbody tr th:only-of-type {\n        vertical-align: middle;\n    }\n\n    .dataframe tbody tr th {\n        vertical-align: top;\n    }\n\n    .dataframe thead th {\n        text-align: right;\n    }\n</style>\n<table border=\"1\" class=\"dataframe\">\n  <thead>\n    <tr style=\"text-align: right;\">\n      <th></th>\n      <th>Papel</th>\n      <th>Empresa</th>\n      <th>Setor</th>\n      <th>Subsetor</th>\n      <th>Cotação</th>\n      <th>Valor da Firma</th>\n      <th>Valor de Mercado</th>\n      <th>Número de Ações</th>\n      <th>P/L</th>\n      <th>Div. Yield</th>\n      <th>EV/EBITDA</th>\n      <th>EV/EBIT</th>\n      <th>ROE</th>\n    </tr>\n  </thead>\n  <tbody>\n    <tr>\n      <th>0</th>\n      <td>CFLU4</td>\n      <td>COCA COLA PN</td>\n      <td>NaN</td>\n      <td>NaN</td>\n      <td>1.00000</td>\n      <td>-</td>\n      <td>0</td>\n      <td>0</td>\n      <td>000</td>\n      <td>0,0</td>\n      <td>-</td>\n      <td>-</td>\n      <td>32,2</td>\n    </tr>\n    <tr>\n      <th>1</th>\n      <td>CLAN3</td>\n      <td>CLARION ON</td>\n      <td>Alimentos</td>\n      <td>Grãos e Derivados</td>\n      <td>000</td>\n      <td>-</td>\n      <td>0</td>\n      <td>158.703.000</td>\n      <td>000</td>\n      <td>0,0</td>\n      <td>-</td>\n      <td>-</td>\n      <td>-1,0</td>\n    </tr>\n    <tr>\n      <th>2</th>\n      <td>VNET3</td>\n      <td>CIELO ON NM</td>\n      <td>Serviços Financeiros Diversos</td>\n      <td>Serviços Financeiros Diversos</td>\n      <td>000</td>\n      <td>-</td>\n      <td>0</td>\n      <td>2.716.820.000</td>\n      <td>000</td>\n      <td>0,0</td>\n      <td>-</td>\n      <td>-</td>\n      <td>13,0</td>\n    </tr>\n    <tr>\n      <th>3</th>\n      <td>CLSC6</td>\n      <td>CELESC PNB N2</td>\n      <td>Energia Elétrica</td>\n      <td>Energia Elétrica</td>\n      <td>000</td>\n      <td>-</td>\n      <td>0</td>\n      <td>38.572.000</td>\n      <td>000</td>\n      <td>0,0</td>\n      <td>-</td>\n      <td>-</td>\n      <td>22,9</td>\n    </tr>\n    <tr>\n      <th>4</th>\n      <td>CSTB4</td>\n      <td>COMPANHIA SIDERÚRGICA DE TUBARÃO PN</td>\n      <td>NaN</td>\n      <td>NaN</td>\n      <td>14769</td>\n      <td>-</td>\n      <td>0</td>\n      <td>0</td>\n      <td>000</td>\n      <td>0,0</td>\n      <td>-</td>\n      <td>-</td>\n      <td>20,1</td>\n    </tr>\n    <tr>\n      <th>...</th>\n      <td>...</td>\n      <td>...</td>\n      <td>...</td>\n      <td>...</td>\n      <td>...</td>\n      <td>...</td>\n      <td>...</td>\n      <td>...</td>\n      <td>...</td>\n      <td>...</td>\n      <td>...</td>\n      <td>...</td>\n      <td>...</td>\n    </tr>\n    <tr>\n      <th>882</th>\n      <td>UBBR3</td>\n      <td>UNIBANCO SA ON N1</td>\n      <td>Financeiros</td>\n      <td>Bancos</td>\n      <td>1800</td>\n      <td>-</td>\n      <td>49.219.500.000</td>\n      <td>2.734.420.000</td>\n      <td>1.46661</td>\n      <td>0,0</td>\n      <td>-</td>\n      <td>-</td>\n      <td>0,3</td>\n    </tr>\n    <tr>\n      <th>883</th>\n      <td>CEPE3</td>\n      <td>CELPE ON</td>\n      <td>Energia Elétrica</td>\n      <td>Energia Elétrica</td>\n      <td>2453</td>\n      <td>6.818.230.000</td>\n      <td>1.830.230.000</td>\n      <td>74.612.000</td>\n      <td>1.89599</td>\n      <td>0,0</td>\n      <td>26996</td>\n      <td>32616</td>\n      <td>0,1</td>\n    </tr>\n    <tr>\n      <th>884</th>\n      <td>CEPE5</td>\n      <td>CELPE PNA</td>\n      <td>Energia Elétrica</td>\n      <td>Energia Elétrica</td>\n      <td>2700</td>\n      <td>7.002.520.000</td>\n      <td>2.014.520.000</td>\n      <td>74.612.000</td>\n      <td>2.08690</td>\n      <td>0,0</td>\n      <td>27726</td>\n      <td>33498</td>\n      <td>0,1</td>\n    </tr>\n    <tr>\n      <th>885</th>\n      <td>BRAP3</td>\n      <td>BRADESPAR S/A ON N1</td>\n      <td>Holdings Diversificadas</td>\n      <td>Holdings Diversificadas</td>\n      <td>3678</td>\n      <td>12.826.500.000</td>\n      <td>12.800.700.000</td>\n      <td>348.034.000</td>\n      <td>2.26963</td>\n      <td>2,0</td>\n      <td>-73437</td>\n      <td>-73437</td>\n      <td>0,1</td>\n    </tr>\n    <tr>\n      <th>886</th>\n      <td>BRAP4</td>\n      <td>BRADESPAR S/A PN N1</td>\n      <td>Holdings Diversificadas</td>\n      <td>Holdings Diversificadas</td>\n      <td>4079</td>\n      <td>14.222.100.000</td>\n      <td>14.196.300.000</td>\n      <td>348.034.000</td>\n      <td>2.51708</td>\n      <td>2,0</td>\n      <td>-81427</td>\n      <td>-81427</td>\n      <td>0,1</td>\n    </tr>\n  </tbody>\n</table>\n<p>887 rows × 13 columns</p>\n</div>"
          },
          "metadata": {},
          "execution_count": 21
        }
      ],
      "source": [
        "tabela_base"
      ]
    },
    {
      "cell_type": "code",
      "execution_count": 22,
      "metadata": {},
      "outputs": [],
      "source": [
        "tabela_base.to_csv('tabela_dados.csv', index=False, sep=';')"
      ]
    },
    {
      "cell_type": "code",
      "execution_count": null,
      "metadata": {},
      "outputs": [],
      "source": []
    }
  ],
  "metadata": {
    "language_info": {
      "codemirror_mode": {
        "name": "ipython",
        "version": 3
      },
      "file_extension": ".py",
      "mimetype": "text/x-python",
      "name": "python",
      "nbconvert_exporter": "python",
      "pygments_lexer": "ipython3",
      "version": "3.7.6-final"
    },
    "orig_nbformat": 2,
    "kernelspec": {
      "name": "python_defaultSpec_1595241837367",
      "display_name": "Python 3.7.6 64-bit ('base': conda)"
    },
    "colab": {
      "name": "DataFrame_bolsa.ipynb",
      "provenance": [],
      "collapsed_sections": [],
      "include_colab_link": true
    }
  },
  "nbformat": 4,
  "nbformat_minor": 0
}