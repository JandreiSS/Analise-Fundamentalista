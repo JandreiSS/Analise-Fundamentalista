{
  "cells": [
    {
      "cell_type": "markdown",
      "metadata": {
        "id": "view-in-github",
        "colab_type": "text"
      },
      "source": [
        "<a href=\"https://colab.research.google.com/github/JandreiSS/Analise-Fundamentalista/blob/master/DataFrame_bolsa.ipynb\" target=\"_parent\"><img src=\"https://colab.research.google.com/assets/colab-badge.svg\" alt=\"Open In Colab\"/></a>"
      ]
    },
    {
      "cell_type": "code",
      "metadata": {
        "id": "TeEGbhyLwjIH",
        "colab_type": "code",
        "colab": {}
      },
      "source": [
        "import numpy as np\n",
        "import pandas as pd\n",
        "import seaborn as sns\n",
        "import string\n",
        "import requests\n",
        "import warnings\n",
        "warnings.filterwarnings('ignore')\n",
        "from concurrent.futures import ThreadPoolExecutor, as_completed\n",
        "from tqdm import tqdm"
      ],
      "execution_count": 1,
      "outputs": []
    },
    {
      "cell_type": "code",
      "metadata": {
        "id": "s6kZlv0fwjIO",
        "colab_type": "code",
        "colab": {}
      },
      "source": [
        "header = {\n",
        "  \"User-Agent\": \"Mozilla/5.0 (X11; Linux x86_64) AppleWebKit/537.36 (KHTML, like Gecko) Chrome/50.0.2661.75 Safari/537.36\",\n",
        "  \"X-Requested-With\": \"XMLHttpRequest\"\n",
        "}"
      ],
      "execution_count": 2,
      "outputs": []
    },
    {
      "cell_type": "code",
      "metadata": {
        "id": "NwXILNzVxOZG",
        "colab_type": "code",
        "colab": {}
      },
      "source": [
        "url = 'http://fundamentus.com.br/resultado.php'"
      ],
      "execution_count": 3,
      "outputs": []
    },
    {
      "cell_type": "code",
      "metadata": {
        "id": "ytMA8aNswjIT",
        "colab_type": "code",
        "colab": {}
      },
      "source": [
        "r = requests.get(url, headers=header)"
      ],
      "execution_count": 4,
      "outputs": []
    },
    {
      "cell_type": "code",
      "metadata": {
        "id": "NlOcnB2FwjIY",
        "colab_type": "code",
        "colab": {}
      },
      "source": [
        "df = pd.read_html(r.text)[0]"
      ],
      "execution_count": 5,
      "outputs": []
    },
    {
      "cell_type": "code",
      "metadata": {
        "id": "l6GWpFtewjIc",
        "colab_type": "code",
        "colab": {}
      },
      "source": [
        "df = df.loc[:,['Papel']]"
      ],
      "execution_count": 6,
      "outputs": []
    },
    {
      "cell_type": "code",
      "metadata": {
        "id": "D8PwDKUMwjIg",
        "colab_type": "code",
        "colab": {}
      },
      "source": [
        "def get(url, timeout):\n",
        "    return requests.get(url, headers=header, timeout = timeout)"
      ],
      "execution_count": 7,
      "outputs": []
    },
    {
      "cell_type": "code",
      "metadata": {
        "id": "q7dUyHQawjIj",
        "colab_type": "code",
        "colab": {}
      },
      "source": [
        "def requestUrls(urls, timeout = 5):\n",
        "    with ThreadPoolExecutor(max_workers = 3) as executor:\n",
        "        agenda = { executor.submit(get, url, timeout): url for url in urls }\n",
        "\n",
        "        for tarefa in as_completed(agenda):     \n",
        "            try:\n",
        "                conteudo = tarefa.result()\n",
        "            except Exception as e:\n",
        "                print (\"\\nNão foi possível fazer a requisição! \\n{}\".format(e))\n",
        "            else:\n",
        "                yield conteudo"
      ],
      "execution_count": 8,
      "outputs": []
    },
    {
      "cell_type": "code",
      "metadata": {
        "id": "jjkiAuyrwjIo",
        "colab_type": "code",
        "colab": {}
      },
      "source": [
        "urls = 'https://www.fundamentus.com.br/detalhes.php?papel=' + df['Papel'].values"
      ],
      "execution_count": 9,
      "outputs": []
    },
    {
      "cell_type": "code",
      "metadata": {
        "id": "R3fwFHu5wjIs",
        "colab_type": "code",
        "colab": {}
      },
      "source": [
        "requisicoes = requestUrls(urls, timeout=60)"
      ],
      "execution_count": 10,
      "outputs": []
    },
    {
      "cell_type": "code",
      "metadata": {
        "id": "_HygN902wjIw",
        "colab_type": "code",
        "colab": {}
      },
      "source": [
        "lista_empresas = []"
      ],
      "execution_count": 11,
      "outputs": []
    },
    {
      "cell_type": "code",
      "execution_count": 12,
      "metadata": {},
      "outputs": [],
      "source": [
        "total_ticket = len(df)"
      ]
    },
    {
      "cell_type": "code",
      "metadata": {
        "id": "_H1KXIuVwjIz",
        "colab_type": "code",
        "colab": {
          "base_uri": "https://localhost:8080/",
          "height": 1000
        },
        "outputId": "6fd38fb8-9925-47c6-c67e-e451870b54b9",
        "tags": []
      },
      "source": [
        "for requisicao in tqdm(requisicoes, unit=' requisições', desc='Requisitando dados: ', disable=False, total=total_ticket, ncols=100):\n",
        "    # codigo = requisicao.status_code\n",
        "    # url = requisicao.url\n",
        "    conteudo = requisicao.content\n",
        "    lista_empresas += [conteudo]\n",
        "    # print (f'{codigo}: {url}')"
      ],
      "execution_count": 13,
      "outputs": [
        {
          "output_type": "stream",
          "name": "stderr",
          "text": "Requisitando dados: 100%|███████████████████████████████| 887/887 [06:10<00:00,  2.40 requisições/s]\n"
        }
      ]
    },
    {
      "cell_type": "markdown",
      "metadata": {},
      "source": [
        "# Transformar os dados para as colunas, para depois exportar em CSV"
      ]
    },
    {
      "cell_type": "code",
      "execution_count": 14,
      "metadata": {},
      "outputs": [],
      "source": [
        "colunas = [\n",
        "    'Papel',\n",
        "    'Empresa',\n",
        "    'Setor',\n",
        "    'Subsetor',\n",
        "    'Cotação',\n",
        "    'Valor da Firma',\n",
        "    'Valor de Mercado',\n",
        "    'Número de Ações',\n",
        "    'P/L',\n",
        "    'Div. Yield',\n",
        "    'EV/EBITDA',\n",
        "    'EV/EBIT',\n",
        "    'ROE'\n",
        "]"
      ]
    },
    {
      "cell_type": "code",
      "execution_count": 15,
      "metadata": {},
      "outputs": [],
      "source": [
        "tabela_base = pd.DataFrame(columns=colunas)"
      ]
    },
    {
      "cell_type": "code",
      "execution_count": 16,
      "metadata": {},
      "outputs": [],
      "source": [
        "total_lista = len(lista_empresas)"
      ]
    },
    {
      "cell_type": "code",
      "execution_count": 17,
      "metadata": {
        "tags": []
      },
      "outputs": [
        {
          "output_type": "stream",
          "name": "stderr",
          "text": "Tratando dados: 100%|█████████████████████████████████████████| 887/887 [00:42<00:00, 20.80 dados/s]\n"
        }
      ],
      "source": [
        "for key in tqdm(range(total_lista), unit=' dados', desc='Tratando dados: ', disable=False, total=total_lista, ncols=100):\n",
        "    dados_base = pd.read_html(lista_empresas[key], thousands='.', decimal=',')\n",
        "    papel = dados_base[0][1][0]\n",
        "    empresa = dados_base[0][1][2]\n",
        "    setor = dados_base[0][1][3]\n",
        "    subsetor = dados_base[0][1][4]\n",
        "    cotacao = dados_base[0][3][0]\n",
        "    valor_da_firma = dados_base[1][1][1]\n",
        "    valor_de_mercado = dados_base[1][1][0]\n",
        "    n_acoes = dados_base[1][3][1]\n",
        "    p_l = dados_base[2][3][1]\n",
        "    div_yield = dados_base[2][3][8]\n",
        "    ev_ebitda = dados_base[2][3][9]\n",
        "    ev_ebit = dados_base[2][3][10]\n",
        "    roe = dados_base[2][5][8]\n",
        "    to_append = [papel, empresa, setor, subsetor, cotacao, valor_da_firma, valor_de_mercado, n_acoes, p_l, div_yield, ev_ebitda, ev_ebit, roe]\n",
        "    tabela_base_length = len(tabela_base)\n",
        "    tabela_base.loc[tabela_base_length] = to_append\n"
      ]
    },
    {
      "cell_type": "code",
      "execution_count": 18,
      "metadata": {},
      "outputs": [
        {
          "output_type": "execute_result",
          "data": {
            "text/plain": "     Papel                              Empresa  \\\n0    VNET3                          CIELO ON NM   \n1    CLAN3                           CLARION ON   \n2    CFLU4                         COCA COLA PN   \n3    CSTB3  COMPANHIA SIDERÚRGICA DE TUBARÃO ON   \n4    CLSC6                        CELESC PNB N2   \n..     ...                                  ...   \n882  CEPE3                             CELPE ON   \n883  CEPE6                            CELPE PNB   \n884  CEPE5                            CELPE PNA   \n885  BRAP4                  BRADESPAR S/A PN N1   \n886  BRAP3                  BRADESPAR S/A ON N1   \n\n                             Setor                       Subsetor  Cotação  \\\n0    Serviços Financeiros Diversos  Serviços Financeiros Diversos     0.00   \n1                        Alimentos              Grãos e Derivados     0.00   \n2                              NaN                            NaN  1000.00   \n3                              NaN                            NaN   150.00   \n4                 Energia Elétrica               Energia Elétrica     0.00   \n..                             ...                            ...      ...   \n882               Energia Elétrica               Energia Elétrica    24.53   \n883               Energia Elétrica               Energia Elétrica    20.00   \n884               Energia Elétrica               Energia Elétrica    27.00   \n885        Holdings Diversificadas        Holdings Diversificadas    39.98   \n886        Holdings Diversificadas        Holdings Diversificadas    36.25   \n\n    Valor da Firma Valor de Mercado Número de Ações      P/L Div. Yield  \\\n0                -                0      2716820000     0.00       0,0%   \n1                -                0       158703000     0.00       0,0%   \n2                -                0               0     0.00       0,0%   \n3                -                0               0     0.00       0,0%   \n4                -                0        38572000     0.00       0,0%   \n..             ...              ...             ...      ...        ...   \n882     6818230000       1830230000        74612000  1895.99       0,0%   \n883     6480240000       1492240000        74612000  1545.85       0,0%   \n884     7002520000       2014520000        74612000  2086.90       0,0%   \n885    13940200000      13914400000       348034000  2467.09       2,0%   \n886    12642000000      12616200000       348034000  2236.92       2,0%   \n\n    EV/EBITDA  EV/EBIT    ROE  \n0           -        -  13,0%  \n1           -        -  -1,0%  \n2           -        -  32,2%  \n3           -        -  20,1%  \n4           -        -  22,9%  \n..        ...      ...    ...  \n882    269.96   326.16   0,1%  \n883    256.58   309.99   0,1%  \n884    277.26   334.98   0,1%  \n885   -798.13  -798.13   0,1%  \n886   -723.81  -723.81   0,1%  \n\n[887 rows x 13 columns]",
            "text/html": "<div>\n<style scoped>\n    .dataframe tbody tr th:only-of-type {\n        vertical-align: middle;\n    }\n\n    .dataframe tbody tr th {\n        vertical-align: top;\n    }\n\n    .dataframe thead th {\n        text-align: right;\n    }\n</style>\n<table border=\"1\" class=\"dataframe\">\n  <thead>\n    <tr style=\"text-align: right;\">\n      <th></th>\n      <th>Papel</th>\n      <th>Empresa</th>\n      <th>Setor</th>\n      <th>Subsetor</th>\n      <th>Cotação</th>\n      <th>Valor da Firma</th>\n      <th>Valor de Mercado</th>\n      <th>Número de Ações</th>\n      <th>P/L</th>\n      <th>Div. Yield</th>\n      <th>EV/EBITDA</th>\n      <th>EV/EBIT</th>\n      <th>ROE</th>\n    </tr>\n  </thead>\n  <tbody>\n    <tr>\n      <th>0</th>\n      <td>VNET3</td>\n      <td>CIELO ON NM</td>\n      <td>Serviços Financeiros Diversos</td>\n      <td>Serviços Financeiros Diversos</td>\n      <td>0.00</td>\n      <td>-</td>\n      <td>0</td>\n      <td>2716820000</td>\n      <td>0.00</td>\n      <td>0,0%</td>\n      <td>-</td>\n      <td>-</td>\n      <td>13,0%</td>\n    </tr>\n    <tr>\n      <th>1</th>\n      <td>CLAN3</td>\n      <td>CLARION ON</td>\n      <td>Alimentos</td>\n      <td>Grãos e Derivados</td>\n      <td>0.00</td>\n      <td>-</td>\n      <td>0</td>\n      <td>158703000</td>\n      <td>0.00</td>\n      <td>0,0%</td>\n      <td>-</td>\n      <td>-</td>\n      <td>-1,0%</td>\n    </tr>\n    <tr>\n      <th>2</th>\n      <td>CFLU4</td>\n      <td>COCA COLA PN</td>\n      <td>NaN</td>\n      <td>NaN</td>\n      <td>1000.00</td>\n      <td>-</td>\n      <td>0</td>\n      <td>0</td>\n      <td>0.00</td>\n      <td>0,0%</td>\n      <td>-</td>\n      <td>-</td>\n      <td>32,2%</td>\n    </tr>\n    <tr>\n      <th>3</th>\n      <td>CSTB3</td>\n      <td>COMPANHIA SIDERÚRGICA DE TUBARÃO ON</td>\n      <td>NaN</td>\n      <td>NaN</td>\n      <td>150.00</td>\n      <td>-</td>\n      <td>0</td>\n      <td>0</td>\n      <td>0.00</td>\n      <td>0,0%</td>\n      <td>-</td>\n      <td>-</td>\n      <td>20,1%</td>\n    </tr>\n    <tr>\n      <th>4</th>\n      <td>CLSC6</td>\n      <td>CELESC PNB N2</td>\n      <td>Energia Elétrica</td>\n      <td>Energia Elétrica</td>\n      <td>0.00</td>\n      <td>-</td>\n      <td>0</td>\n      <td>38572000</td>\n      <td>0.00</td>\n      <td>0,0%</td>\n      <td>-</td>\n      <td>-</td>\n      <td>22,9%</td>\n    </tr>\n    <tr>\n      <th>...</th>\n      <td>...</td>\n      <td>...</td>\n      <td>...</td>\n      <td>...</td>\n      <td>...</td>\n      <td>...</td>\n      <td>...</td>\n      <td>...</td>\n      <td>...</td>\n      <td>...</td>\n      <td>...</td>\n      <td>...</td>\n      <td>...</td>\n    </tr>\n    <tr>\n      <th>882</th>\n      <td>CEPE3</td>\n      <td>CELPE ON</td>\n      <td>Energia Elétrica</td>\n      <td>Energia Elétrica</td>\n      <td>24.53</td>\n      <td>6818230000</td>\n      <td>1830230000</td>\n      <td>74612000</td>\n      <td>1895.99</td>\n      <td>0,0%</td>\n      <td>269.96</td>\n      <td>326.16</td>\n      <td>0,1%</td>\n    </tr>\n    <tr>\n      <th>883</th>\n      <td>CEPE6</td>\n      <td>CELPE PNB</td>\n      <td>Energia Elétrica</td>\n      <td>Energia Elétrica</td>\n      <td>20.00</td>\n      <td>6480240000</td>\n      <td>1492240000</td>\n      <td>74612000</td>\n      <td>1545.85</td>\n      <td>0,0%</td>\n      <td>256.58</td>\n      <td>309.99</td>\n      <td>0,1%</td>\n    </tr>\n    <tr>\n      <th>884</th>\n      <td>CEPE5</td>\n      <td>CELPE PNA</td>\n      <td>Energia Elétrica</td>\n      <td>Energia Elétrica</td>\n      <td>27.00</td>\n      <td>7002520000</td>\n      <td>2014520000</td>\n      <td>74612000</td>\n      <td>2086.90</td>\n      <td>0,0%</td>\n      <td>277.26</td>\n      <td>334.98</td>\n      <td>0,1%</td>\n    </tr>\n    <tr>\n      <th>885</th>\n      <td>BRAP4</td>\n      <td>BRADESPAR S/A PN N1</td>\n      <td>Holdings Diversificadas</td>\n      <td>Holdings Diversificadas</td>\n      <td>39.98</td>\n      <td>13940200000</td>\n      <td>13914400000</td>\n      <td>348034000</td>\n      <td>2467.09</td>\n      <td>2,0%</td>\n      <td>-798.13</td>\n      <td>-798.13</td>\n      <td>0,1%</td>\n    </tr>\n    <tr>\n      <th>886</th>\n      <td>BRAP3</td>\n      <td>BRADESPAR S/A ON N1</td>\n      <td>Holdings Diversificadas</td>\n      <td>Holdings Diversificadas</td>\n      <td>36.25</td>\n      <td>12642000000</td>\n      <td>12616200000</td>\n      <td>348034000</td>\n      <td>2236.92</td>\n      <td>2,0%</td>\n      <td>-723.81</td>\n      <td>-723.81</td>\n      <td>0,1%</td>\n    </tr>\n  </tbody>\n</table>\n<p>887 rows × 13 columns</p>\n</div>"
          },
          "metadata": {},
          "execution_count": 18
        }
      ],
      "source": [
        "tabela_base"
      ]
    },
    {
      "cell_type": "code",
      "execution_count": 19,
      "metadata": {},
      "outputs": [],
      "source": [
        "# tabela_base.to_csv('tabela_dados.csv', index=False)"
      ]
    }
  ],
  "metadata": {
    "language_info": {
      "codemirror_mode": {
        "name": "ipython",
        "version": 3
      },
      "file_extension": ".py",
      "mimetype": "text/x-python",
      "name": "python",
      "nbconvert_exporter": "python",
      "pygments_lexer": "ipython3",
      "version": "3.7.6-final"
    },
    "orig_nbformat": 2,
    "kernelspec": {
      "name": "python_defaultSpec_1594984635819",
      "display_name": "Python 3.7.6 64-bit ('base': conda)"
    },
    "colab": {
      "name": "DataFrame_bolsa.ipynb",
      "provenance": [],
      "collapsed_sections": [],
      "include_colab_link": true
    }
  },
  "nbformat": 4,
  "nbformat_minor": 0
}