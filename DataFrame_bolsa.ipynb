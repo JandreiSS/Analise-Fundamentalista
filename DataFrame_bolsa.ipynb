{
 "cells": [
  {
   "cell_type": "markdown",
   "metadata": {
    "colab_type": "text",
    "id": "view-in-github"
   },
   "source": [
    "<a href=\"https://colab.research.google.com/github/JandreiSS/Analise-Fundamentalista/blob/master/DataFrame_bolsa.ipynb\" target=\"_parent\"><img src=\"https://colab.research.google.com/assets/colab-badge.svg\" alt=\"Open In Colab\"/></a>"
   ]
  },
  {
   "cell_type": "code",
   "execution_count": 1,
   "metadata": {
    "colab": {},
    "colab_type": "code",
    "id": "TeEGbhyLwjIH"
   },
   "outputs": [],
   "source": [
    "import numpy as np\n",
    "import pandas as pd\n",
    "import seaborn as sns\n",
    "import string\n",
    "import requests\n",
    "import warnings\n",
    "warnings.filterwarnings('ignore')\n",
    "from concurrent.futures import ThreadPoolExecutor, as_completed\n",
    "from tqdm import tqdm"
   ]
  },
  {
   "cell_type": "code",
   "execution_count": 2,
   "metadata": {
    "colab": {},
    "colab_type": "code",
    "id": "s6kZlv0fwjIO"
   },
   "outputs": [],
   "source": [
    "header = {\n",
    "  \"User-Agent\": \"Mozilla/5.0 (X11; Linux x86_64) AppleWebKit/537.36 (KHTML, like Gecko) Chrome/50.0.2661.75 Safari/537.36\",\n",
    "  \"X-Requested-With\": \"XMLHttpRequest\"\n",
    "}"
   ]
  },
  {
   "cell_type": "code",
   "execution_count": 3,
   "metadata": {
    "colab": {},
    "colab_type": "code",
    "id": "NwXILNzVxOZG"
   },
   "outputs": [],
   "source": [
    "url = 'http://fundamentus.com.br/resultado.php'"
   ]
  },
  {
   "cell_type": "code",
   "execution_count": 4,
   "metadata": {
    "colab": {},
    "colab_type": "code",
    "id": "ytMA8aNswjIT"
   },
   "outputs": [],
   "source": [
    "r = requests.get(url, headers=header)"
   ]
  },
  {
   "cell_type": "code",
   "execution_count": 5,
   "metadata": {
    "colab": {},
    "colab_type": "code",
    "id": "NlOcnB2FwjIY"
   },
   "outputs": [],
   "source": [
    "df = pd.read_html(r.text, thousands='.', decimal=',')[0]"
   ]
  },
  {
   "cell_type": "code",
   "execution_count": 6,
   "metadata": {},
   "outputs": [],
   "source": [
    "for coluna in ['Div.Yield', 'Mrg Ebit', 'Mrg. Líq.', 'ROIC', 'ROE', 'Cresc. Rec.5a']:\n",
    "  df[coluna] = df[coluna].str.replace('.', '')\n",
    "  df[coluna] = df[coluna].str.replace(',', '.')\n",
    "  df[coluna] = df[coluna].str.rstrip('%').astype('float') / 100"
   ]
  },
  {
   "cell_type": "code",
   "execution_count": 7,
   "metadata": {},
   "outputs": [],
   "source": [
    "df = df[df['Liq.2meses'] > 1000000]"
   ]
  },
  {
   "cell_type": "code",
   "execution_count": 8,
   "metadata": {},
   "outputs": [],
   "source": [
    "ranking = pd.DataFrame()\n",
    "ranking['Position'] = range(1,151)\n",
    "ranking['EV/EBIT'] = df[df['EV/EBIT'] > 0].sort_values(by=['EV/EBIT'])['Papel'][:150].values\n",
    "ranking['ROIC'] = df.sort_values(by=['ROIC'], ascending=False)['Papel'][:150].values"
   ]
  },
  {
   "cell_type": "code",
   "execution_count": 9,
   "metadata": {},
   "outputs": [],
   "source": [
    "auxA = ranking.pivot_table(columns='EV/EBIT', values='Position')\n",
    "auxB = ranking.pivot_table(columns='ROIC', values='Position')\n",
    "t = pd.concat([auxA, auxB])"
   ]
  },
  {
   "cell_type": "code",
   "execution_count": 10,
   "metadata": {},
   "outputs": [],
   "source": [
    "rank = t.dropna(axis=1).sum().astype(int).sort_values()"
   ]
  },
  {
   "cell_type": "code",
   "execution_count": 11,
   "metadata": {},
   "outputs": [],
   "source": [
    "rank.to_csv('ranking.csv', index=True, sep=';', header=False)"
   ]
  },
  {
   "cell_type": "code",
   "execution_count": 12,
   "metadata": {
    "colab": {},
    "colab_type": "code",
    "id": "l6GWpFtewjIc"
   },
   "outputs": [],
   "source": [
    "df = df.loc[:,['Papel']]"
   ]
  },
  {
   "cell_type": "code",
   "execution_count": 13,
   "metadata": {
    "colab": {},
    "colab_type": "code",
    "id": "D8PwDKUMwjIg"
   },
   "outputs": [],
   "source": [
    "def get(url, timeout):\n",
    "    return requests.get(url, headers=header, timeout = timeout)"
   ]
  },
  {
   "cell_type": "code",
   "execution_count": 14,
   "metadata": {
    "colab": {},
    "colab_type": "code",
    "id": "q7dUyHQawjIj"
   },
   "outputs": [],
   "source": [
    "def requestUrls(urls, timeout = 5):\n",
    "    with ThreadPoolExecutor(max_workers = 3) as executor:\n",
    "        agenda = { executor.submit(get, url, timeout): url for url in urls }\n",
    "\n",
    "        for tarefa in as_completed(agenda):     \n",
    "            try:\n",
    "                conteudo = tarefa.result()\n",
    "            except Exception as e:\n",
    "                print (\"\\nNão foi possível fazer a requisição! \\n{}\".format(e))\n",
    "            else:\n",
    "                yield conteudo"
   ]
  },
  {
   "cell_type": "code",
   "execution_count": 15,
   "metadata": {
    "colab": {},
    "colab_type": "code",
    "id": "jjkiAuyrwjIo"
   },
   "outputs": [],
   "source": [
    "urls = 'https://www.fundamentus.com.br/detalhes.php?papel=' + df['Papel'].values"
   ]
  },
  {
   "cell_type": "code",
   "execution_count": 16,
   "metadata": {
    "colab": {},
    "colab_type": "code",
    "id": "R3fwFHu5wjIs"
   },
   "outputs": [],
   "source": [
    "requisicoes = requestUrls(urls, timeout=60)"
   ]
  },
  {
   "cell_type": "code",
   "execution_count": 17,
   "metadata": {
    "colab": {},
    "colab_type": "code",
    "id": "_HygN902wjIw"
   },
   "outputs": [],
   "source": [
    "lista_empresas = []"
   ]
  },
  {
   "cell_type": "code",
   "execution_count": 18,
   "metadata": {},
   "outputs": [],
   "source": [
    "total_ticket = len(df)"
   ]
  },
  {
   "cell_type": "code",
   "execution_count": 19,
   "metadata": {
    "colab": {
     "base_uri": "https://localhost:8080/",
     "height": 1000
    },
    "colab_type": "code",
    "id": "_H1KXIuVwjIz",
    "outputId": "6fd38fb8-9925-47c6-c67e-e451870b54b9",
    "tags": []
   },
   "outputs": [
    {
     "name": "stderr",
     "output_type": "stream",
     "text": [
      "Requisitando dados: 100%|███████████████████████████████| 214/214 [01:45<00:00,  2.02 requisições/s]\n"
     ]
    }
   ],
   "source": [
    "for requisicao in tqdm(requisicoes, unit=' requisições', desc='Requisitando dados: ', disable=False, total=total_ticket, ncols=100):\n",
    "    # codigo = requisicao.status_code\n",
    "    # url = requisicao.url\n",
    "    conteudo = requisicao.content\n",
    "    lista_empresas += [conteudo]\n",
    "    # print (f'{codigo}: {url}')"
   ]
  },
  {
   "cell_type": "markdown",
   "metadata": {},
   "source": [
    "### Transformar os dados do HTML para um DataFrame"
   ]
  },
  {
   "cell_type": "code",
   "execution_count": 20,
   "metadata": {},
   "outputs": [],
   "source": [
    "colunas = [\n",
    "    'Papel',\n",
    "    'Empresa',\n",
    "    'Setor',\n",
    "    'Subsetor',\n",
    "    'Cotação',\n",
    "    'Valor da Firma',\n",
    "    'Valor de Mercado',\n",
    "    'Número de Ações',\n",
    "    'P/L',\n",
    "    'Div. Yield',\n",
    "    'EV/EBITDA',\n",
    "    'EV/EBIT',\n",
    "    'ROE',\n",
    "    'ROIC',\n",
    "    'Lucro Líquido (ano)'\n",
    "]"
   ]
  },
  {
   "cell_type": "code",
   "execution_count": 21,
   "metadata": {},
   "outputs": [],
   "source": [
    "tabela_base = pd.DataFrame(columns=colunas)"
   ]
  },
  {
   "cell_type": "code",
   "execution_count": 22,
   "metadata": {},
   "outputs": [],
   "source": [
    "total_lista = len(lista_empresas)"
   ]
  },
  {
   "cell_type": "code",
   "execution_count": 23,
   "metadata": {
    "tags": []
   },
   "outputs": [
    {
     "name": "stderr",
     "output_type": "stream",
     "text": [
      "Tratando dados: 100%|█████████████████████████████████████████| 214/214 [00:06<00:00, 31.83 dados/s]\n"
     ]
    }
   ],
   "source": [
    "for key in tqdm(range(total_lista), unit=' dados', desc='Tratando dados: ', disable=False, total=total_lista, ncols=100):\n",
    "    dados_base = pd.read_html(lista_empresas[key])\n",
    "    papel = dados_base[0][1][0]\n",
    "    empresa = dados_base[0][1][2]\n",
    "    setor = dados_base[0][1][3]\n",
    "    subsetor = dados_base[0][1][4]\n",
    "    cotacao = dados_base[0][3][0]\n",
    "    valor_da_firma = dados_base[1][1][1]\n",
    "    valor_de_mercado = dados_base[1][1][0]\n",
    "    n_acoes = dados_base[1][3][1]\n",
    "    p_l = dados_base[2][3][1]\n",
    "    div_yield = dados_base[2][3][8]\n",
    "    ev_ebitda = dados_base[2][3][9]\n",
    "    ev_ebit = dados_base[2][3][10]\n",
    "    roe = dados_base[2][5][8]\n",
    "    roic = dados_base[2][5][7]\n",
    "    lucro_liq_ano = dados_base[4][1][4]\n",
    "    to_append = [papel, empresa, setor, subsetor, cotacao, valor_da_firma, valor_de_mercado, n_acoes, p_l, div_yield, ev_ebitda, ev_ebit, roe, roic, lucro_liq_ano]\n",
    "    tabela_base_length = len(tabela_base)\n",
    "    tabela_base.loc[tabela_base_length] = to_append\n"
   ]
  },
  {
   "cell_type": "code",
   "execution_count": 24,
   "metadata": {},
   "outputs": [],
   "source": [
    "for coluna in ['ROE', 'Div. Yield', 'ROIC']:\n",
    "    tabela_base[coluna] = tabela_base[coluna].str.rstrip('%')"
   ]
  },
  {
   "cell_type": "code",
   "execution_count": 25,
   "metadata": {},
   "outputs": [],
   "source": [
    "tabela_base.to_csv('tabela_dados.csv', index=False, sep=';')"
   ]
  }
 ],
 "metadata": {
  "colab": {
   "collapsed_sections": [],
   "include_colab_link": true,
   "name": "DataFrame_bolsa.ipynb",
   "provenance": []
  },
  "kernelspec": {
   "display_name": "Python 3.7.6 64-bit ('base': conda)",
   "language": "python",
   "name": "python_defaultSpec_1598266939220"
  },
  "language_info": {
   "codemirror_mode": {
    "name": "ipython",
    "version": 3
   },
   "file_extension": ".py",
   "mimetype": "text/x-python",
   "name": "python",
   "nbconvert_exporter": "python",
   "pygments_lexer": "ipython3",
   "version": "3.7.6-final"
  }
 },
 "nbformat": 4,
 "nbformat_minor": 1
}