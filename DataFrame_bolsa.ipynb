{
  "cells": [
    {
      "cell_type": "markdown",
      "metadata": {
        "id": "view-in-github",
        "colab_type": "text"
      },
      "source": [
        "<a href=\"https://colab.research.google.com/github/JandreiSS/Analise-Fundamentalista/blob/master/DataFrame_bolsa.ipynb\" target=\"_parent\"><img src=\"https://colab.research.google.com/assets/colab-badge.svg\" alt=\"Open In Colab\"/></a>"
      ]
    },
    {
      "cell_type": "code",
      "metadata": {
        "id": "TeEGbhyLwjIH",
        "colab_type": "code",
        "colab": {}
      },
      "source": [
        "import numpy as np\n",
        "import pandas as pd\n",
        "import string\n",
        "import requests\n",
        "import warnings\n",
        "warnings.filterwarnings('ignore')\n",
        "from concurrent.futures import ThreadPoolExecutor, as_completed\n",
        "from tqdm import tqdm"
      ],
      "execution_count": null,
      "outputs": []
    },
    {
      "cell_type": "code",
      "metadata": {
        "id": "s6kZlv0fwjIO",
        "colab_type": "code",
        "colab": {}
      },
      "source": [
        "header = {\n",
        "  \"User-Agent\": \"Mozilla/5.0 (X11; Linux x86_64) AppleWebKit/537.36 (KHTML, like Gecko) Chrome/50.0.2661.75 Safari/537.36\",\n",
        "  \"X-Requested-With\": \"XMLHttpRequest\"\n",
        "}"
      ],
      "execution_count": null,
      "outputs": []
    },
    {
      "cell_type": "code",
      "metadata": {
        "id": "NwXILNzVxOZG",
        "colab_type": "code",
        "colab": {}
      },
      "source": [
        "url = 'http://fundamentus.com.br/resultado.php'"
      ],
      "execution_count": null,
      "outputs": []
    },
    {
      "cell_type": "code",
      "metadata": {
        "id": "ytMA8aNswjIT",
        "colab_type": "code",
        "colab": {}
      },
      "source": [
        "r = requests.get(url, headers=header)"
      ],
      "execution_count": null,
      "outputs": []
    },
    {
      "cell_type": "code",
      "metadata": {
        "id": "NlOcnB2FwjIY",
        "colab_type": "code",
        "colab": {}
      },
      "source": [
        "df = pd.read_html(r.text)[0]"
      ],
      "execution_count": null,
      "outputs": []
    },
    {
      "cell_type": "code",
      "metadata": {
        "id": "l6GWpFtewjIc",
        "colab_type": "code",
        "colab": {}
      },
      "source": [
        "df = df.loc[:,['Papel']]"
      ],
      "execution_count": null,
      "outputs": []
    },
    {
      "cell_type": "code",
      "metadata": {
        "id": "D8PwDKUMwjIg",
        "colab_type": "code",
        "colab": {}
      },
      "source": [
        "def get(url, timeout):\n",
        "    return requests.get(url, headers=header, timeout = timeout)"
      ],
      "execution_count": null,
      "outputs": []
    },
    {
      "cell_type": "code",
      "metadata": {
        "id": "q7dUyHQawjIj",
        "colab_type": "code",
        "colab": {}
      },
      "source": [
        "def requestUrls(urls, timeout = 5):\n",
        "    with ThreadPoolExecutor(max_workers = 3) as executor:\n",
        "        agenda = { executor.submit(get, url, timeout): url for url in urls }\n",
        "\n",
        "        for tarefa in as_completed(agenda):     \n",
        "            try:\n",
        "                conteudo = tarefa.result()\n",
        "            except Exception as e:\n",
        "                print (\"Não foi possível fazer a requisição! \\n{}\".format(e))\n",
        "            else:\n",
        "                yield conteudo"
      ],
      "execution_count": null,
      "outputs": []
    },
    {
      "cell_type": "code",
      "metadata": {
        "id": "jjkiAuyrwjIo",
        "colab_type": "code",
        "colab": {}
      },
      "source": [
        "urls = 'https://www.fundamentus.com.br/detalhes.php?papel=' + df['Papel'].values"
      ],
      "execution_count": null,
      "outputs": []
    },
    {
      "cell_type": "code",
      "metadata": {
        "id": "R3fwFHu5wjIs",
        "colab_type": "code",
        "colab": {}
      },
      "source": [
        "requisicoes = requestUrls(urls, timeout=30)"
      ],
      "execution_count": null,
      "outputs": []
    },
    {
      "cell_type": "code",
      "metadata": {
        "id": "_HygN902wjIw",
        "colab_type": "code",
        "colab": {}
      },
      "source": [
        "lista_empresas = []"
      ],
      "execution_count": null,
      "outputs": []
    },
    {
      "cell_type": "code",
      "execution_count": null,
      "metadata": {},
      "outputs": [],
      "source": [
        "total_ticket = len(df)"
      ]
    },
    {
      "cell_type": "code",
      "metadata": {
        "id": "_H1KXIuVwjIz",
        "colab_type": "code",
        "colab": {
          "base_uri": "https://localhost:8080/",
          "height": 1000
        },
        "outputId": "6fd38fb8-9925-47c6-c67e-e451870b54b9",
        "tags": []
      },
      "source": [
        "for requisicao in tqdm(requisicoes, unit=' urls', desc='Loading: ', disable=False, total=total_ticket):\n",
        "    # codigo = requisicao.status_code\n",
        "    # url = requisicao.url\n",
        "    conteudo = requisicao.content\n",
        "    lista_empresas += [conteudo]\n",
        "    # print (f'{codigo}: {url}')"
      ],
      "execution_count": null,
      "outputs": []
    },
    {
      "cell_type": "code",
      "metadata": {
        "id": "yTvhGEyX3DgA",
        "colab_type": "code",
        "colab": {}
      },
      "source": [
        "# dados[0].to_csv('dados.csv', index=False)"
      ],
      "execution_count": null,
      "outputs": []
    },
    {
      "cell_type": "markdown",
      "metadata": {},
      "source": [
        "# Transformar os dados para as colunas, para depois exportar em CSV"
      ]
    },
    {
      "cell_type": "code",
      "execution_count": 48,
      "metadata": {},
      "outputs": [],
      "source": [
        "colunas = [\n",
        "    'Papel',\n",
        "    'Empresa',\n",
        "    'Setor',\n",
        "    'Subsetor',\n",
        "    'Cotação',\n",
        "]"
      ]
    },
    {
      "cell_type": "code",
      "execution_count": 51,
      "metadata": {},
      "outputs": [],
      "source": [
        "tabela_base = pd.DataFrame(columns=colunas)"
      ]
    },
    {
      "cell_type": "code",
      "execution_count": 52,
      "metadata": {
        "tags": []
      },
      "outputs": [],
      "source": [
        "for key in range(len(lista_empresas)):\n",
        "    dados_base = pd.read_html(lista_empresas[key])\n",
        "    papel = dados_base[0][1][0]\n",
        "    empresa = dados_base[0][1][2]\n",
        "    setor = dados_base[0][1][3]\n",
        "    subsetor = dados_base[0][1][4]\n",
        "    cotacao = dados_base[0][3][0]\n",
        "    to_append = [papel, empresa, setor, subsetor, cotacao]\n",
        "    tabela_base_length = len(tabela_base)\n",
        "    tabela_base.loc[tabela_base_length] = to_append\n"
      ]
    },
    {
      "cell_type": "code",
      "execution_count": 53,
      "metadata": {},
      "outputs": [
        {
          "output_type": "execute_result",
          "data": {
            "text/plain": "     Papel                              Empresa  \\\n0    VNET3                          CIELO ON NM   \n1    CFLU4                         COCA COLA PN   \n2    CLAN3                           CLARION ON   \n3    CLSC6                        CELESC PNB N2   \n4    CSTB3  COMPANHIA SIDERÚRGICA DE TUBARÃO ON   \n..     ...                                  ...   \n882  CEPE6                            CELPE PNB   \n883  CEPE3                             CELPE ON   \n884  CEPE5                            CELPE PNA   \n885  BRAP3                  BRADESPAR S/A ON N1   \n886  BRAP4                  BRADESPAR S/A PN N1   \n\n                             Setor                       Subsetor  Cotação  \n0    Serviços Financeiros Diversos  Serviços Financeiros Diversos      000  \n1                              NaN                            NaN  1.00000  \n2                        Alimentos              Grãos e Derivados      000  \n3                 Energia Elétrica               Energia Elétrica      000  \n4                              NaN                            NaN    15000  \n..                             ...                            ...      ...  \n882               Energia Elétrica               Energia Elétrica     2000  \n883               Energia Elétrica               Energia Elétrica     2453  \n884               Energia Elétrica               Energia Elétrica     2700  \n885        Holdings Diversificadas        Holdings Diversificadas     3625  \n886        Holdings Diversificadas        Holdings Diversificadas     3998  \n\n[887 rows x 5 columns]",
            "text/html": "<div>\n<style scoped>\n    .dataframe tbody tr th:only-of-type {\n        vertical-align: middle;\n    }\n\n    .dataframe tbody tr th {\n        vertical-align: top;\n    }\n\n    .dataframe thead th {\n        text-align: right;\n    }\n</style>\n<table border=\"1\" class=\"dataframe\">\n  <thead>\n    <tr style=\"text-align: right;\">\n      <th></th>\n      <th>Papel</th>\n      <th>Empresa</th>\n      <th>Setor</th>\n      <th>Subsetor</th>\n      <th>Cotação</th>\n    </tr>\n  </thead>\n  <tbody>\n    <tr>\n      <th>0</th>\n      <td>VNET3</td>\n      <td>CIELO ON NM</td>\n      <td>Serviços Financeiros Diversos</td>\n      <td>Serviços Financeiros Diversos</td>\n      <td>000</td>\n    </tr>\n    <tr>\n      <th>1</th>\n      <td>CFLU4</td>\n      <td>COCA COLA PN</td>\n      <td>NaN</td>\n      <td>NaN</td>\n      <td>1.00000</td>\n    </tr>\n    <tr>\n      <th>2</th>\n      <td>CLAN3</td>\n      <td>CLARION ON</td>\n      <td>Alimentos</td>\n      <td>Grãos e Derivados</td>\n      <td>000</td>\n    </tr>\n    <tr>\n      <th>3</th>\n      <td>CLSC6</td>\n      <td>CELESC PNB N2</td>\n      <td>Energia Elétrica</td>\n      <td>Energia Elétrica</td>\n      <td>000</td>\n    </tr>\n    <tr>\n      <th>4</th>\n      <td>CSTB3</td>\n      <td>COMPANHIA SIDERÚRGICA DE TUBARÃO ON</td>\n      <td>NaN</td>\n      <td>NaN</td>\n      <td>15000</td>\n    </tr>\n    <tr>\n      <th>...</th>\n      <td>...</td>\n      <td>...</td>\n      <td>...</td>\n      <td>...</td>\n      <td>...</td>\n    </tr>\n    <tr>\n      <th>882</th>\n      <td>CEPE6</td>\n      <td>CELPE PNB</td>\n      <td>Energia Elétrica</td>\n      <td>Energia Elétrica</td>\n      <td>2000</td>\n    </tr>\n    <tr>\n      <th>883</th>\n      <td>CEPE3</td>\n      <td>CELPE ON</td>\n      <td>Energia Elétrica</td>\n      <td>Energia Elétrica</td>\n      <td>2453</td>\n    </tr>\n    <tr>\n      <th>884</th>\n      <td>CEPE5</td>\n      <td>CELPE PNA</td>\n      <td>Energia Elétrica</td>\n      <td>Energia Elétrica</td>\n      <td>2700</td>\n    </tr>\n    <tr>\n      <th>885</th>\n      <td>BRAP3</td>\n      <td>BRADESPAR S/A ON N1</td>\n      <td>Holdings Diversificadas</td>\n      <td>Holdings Diversificadas</td>\n      <td>3625</td>\n    </tr>\n    <tr>\n      <th>886</th>\n      <td>BRAP4</td>\n      <td>BRADESPAR S/A PN N1</td>\n      <td>Holdings Diversificadas</td>\n      <td>Holdings Diversificadas</td>\n      <td>3998</td>\n    </tr>\n  </tbody>\n</table>\n<p>887 rows × 5 columns</p>\n</div>"
          },
          "metadata": {},
          "execution_count": 53
        }
      ],
      "source": [
        "# lista_dados_tabela0\n",
        "tabela_base"
      ]
    },
    {
      "cell_type": "code",
      "execution_count": 32,
      "metadata": {},
      "outputs": [
        {
          "output_type": "execute_result",
          "data": {
            "text/plain": "           0                              1                2    3\n0     ?Papel                          VNET3         ?Cotação  000\n1      ?Tipo                          ON NM    ?Data últ cot    -\n2   ?Empresa                    CIELO ON NM      ?Min 52 sem  000\n3     ?Setor  Serviços Financeiros Diversos      ?Max 52 sem  000\n4  ?Subsetor  Serviços Financeiros Diversos  ?Vol $ méd (2m)    0",
            "text/html": "<div>\n<style scoped>\n    .dataframe tbody tr th:only-of-type {\n        vertical-align: middle;\n    }\n\n    .dataframe tbody tr th {\n        vertical-align: top;\n    }\n\n    .dataframe thead th {\n        text-align: right;\n    }\n</style>\n<table border=\"1\" class=\"dataframe\">\n  <thead>\n    <tr style=\"text-align: right;\">\n      <th></th>\n      <th>0</th>\n      <th>1</th>\n      <th>2</th>\n      <th>3</th>\n    </tr>\n  </thead>\n  <tbody>\n    <tr>\n      <th>0</th>\n      <td>?Papel</td>\n      <td>VNET3</td>\n      <td>?Cotação</td>\n      <td>000</td>\n    </tr>\n    <tr>\n      <th>1</th>\n      <td>?Tipo</td>\n      <td>ON NM</td>\n      <td>?Data últ cot</td>\n      <td>-</td>\n    </tr>\n    <tr>\n      <th>2</th>\n      <td>?Empresa</td>\n      <td>CIELO ON NM</td>\n      <td>?Min 52 sem</td>\n      <td>000</td>\n    </tr>\n    <tr>\n      <th>3</th>\n      <td>?Setor</td>\n      <td>Serviços Financeiros Diversos</td>\n      <td>?Max 52 sem</td>\n      <td>000</td>\n    </tr>\n    <tr>\n      <th>4</th>\n      <td>?Subsetor</td>\n      <td>Serviços Financeiros Diversos</td>\n      <td>?Vol $ méd (2m)</td>\n      <td>0</td>\n    </tr>\n  </tbody>\n</table>\n</div>"
          },
          "metadata": {},
          "execution_count": 32
        }
      ],
      "source": [
        "dados[0]"
      ]
    },
    {
      "cell_type": "code",
      "execution_count": 39,
      "metadata": {},
      "outputs": [
        {
          "output_type": "execute_result",
          "data": {
            "text/plain": "'CFLU4'"
          },
          "metadata": {},
          "execution_count": 39
        }
      ],
      "source": [
        "# lista_dados_tabela0 = []\n",
        "# lista_dados_tabela0 = [dados_base[key][1][0], dados_base[key][1][2], dados_base[key][1][3], dados_base[key][1][4], dados_base[key][3][0]]\n",
        "papel = dados_base[0][1][0]\n",
        "papel"
      ]
    },
    {
      "cell_type": "code",
      "execution_count": null,
      "metadata": {},
      "outputs": [],
      "source": [
        "transforma_dados = pd.DataFrame()\n",
        "# transforma_dados['Papel'] = df['Papel'].values\n",
        "# transforma_dados['Empresa'] = "
      ]
    },
    {
      "cell_type": "code",
      "execution_count": null,
      "metadata": {},
      "outputs": [],
      "source": [
        "transforma_dados"
      ]
    },
    {
      "cell_type": "code",
      "execution_count": null,
      "metadata": {},
      "outputs": [],
      "source": [
        "len(transforma_dados)"
      ]
    }
  ],
  "metadata": {
    "language_info": {
      "codemirror_mode": {
        "name": "ipython",
        "version": 3
      },
      "file_extension": ".py",
      "mimetype": "text/x-python",
      "name": "python",
      "nbconvert_exporter": "python",
      "pygments_lexer": "ipython3",
      "version": "3.7.6-final"
    },
    "orig_nbformat": 2,
    "kernelspec": {
      "name": "python_defaultSpec_1594984635819",
      "display_name": "Python 3.7.6 64-bit ('base': conda)"
    },
    "colab": {
      "name": "DataFrame_bolsa.ipynb",
      "provenance": [],
      "collapsed_sections": [],
      "include_colab_link": true
    }
  },
  "nbformat": 4,
  "nbformat_minor": 0
}